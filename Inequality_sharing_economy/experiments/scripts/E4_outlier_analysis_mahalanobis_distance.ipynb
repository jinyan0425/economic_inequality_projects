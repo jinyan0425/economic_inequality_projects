{
 "cells": [
  {
   "cell_type": "code",
   "execution_count": 1,
   "id": "950aed80-6b92-4b66-a8d9-1a2ef204fab7",
   "metadata": {},
   "outputs": [
    {
     "data": {
      "text/plain": [
       "'/Users/jinyanxiang/Desktop/Github/Inequality_sharing_economy_og/experiments'"
      ]
     },
     "execution_count": 1,
     "metadata": {},
     "output_type": "execute_result"
    }
   ],
   "source": [
    "import os\n",
    "os.getcwd()"
   ]
  },
  {
   "cell_type": "code",
   "execution_count": 72,
   "id": "dba7eabf-cd91-400a-b780-75f5ad773610",
   "metadata": {},
   "outputs": [],
   "source": [
    "import warnings\n",
    "warnings.filterwarnings(\"ignore\", category = FutureWarning)\n",
    "warnings.filterwarnings(\"ignore\", category = DeprecationWarning)"
   ]
  },
  {
   "cell_type": "code",
   "execution_count": 3,
   "id": "c5dd5dfa-95f3-4016-9f84-15d8707c250c",
   "metadata": {},
   "outputs": [],
   "source": [
    "import numpy as np\n",
    "import pandas as pd \n",
    "import scipy\n",
    "from scipy.stats import chi2\n",
    "\n",
    "import pingouin as pg\n",
    "from pingouin import anova\n",
    "import matplotlib.pyplot as plt"
   ]
  },
  {
   "cell_type": "code",
   "execution_count": 9,
   "id": "659a7404-5e51-4ad6-bea5-3d94f5dc7b30",
   "metadata": {},
   "outputs": [],
   "source": [
    "#read the dataframe\n",
    "df = pd.read_csv('E4_inequality_SE_lodge_moderation.csv')"
   ]
  },
  {
   "cell_type": "code",
   "execution_count": 12,
   "id": "73344522-1513-439a-8097-fe0f6a9ca458",
   "metadata": {},
   "outputs": [],
   "source": [
    "#add id index\n",
    "df.reset_index(inplace = True, drop = True)\n",
    "df['id'] = df.index"
   ]
  },
  {
   "cell_type": "code",
   "execution_count": 13,
   "id": "f3c6746b-0d81-4041-98cb-f2ad2077ea37",
   "metadata": {},
   "outputs": [
    {
     "data": {
      "text/plain": [
       "Index(['StartDate', 'EndDate', 'Status', 'IPAddress', 'Progress',\n",
       "       'Duration (in seconds)', 'Finished', 'RecordedDate', 'ResponseId',\n",
       "       'RecipientLastName', 'RecipientFirstName', 'RecipientEmail',\n",
       "       'ExternalReference', 'LocationLatitude', 'LocationLongitude',\n",
       "       'DistributionChannel', 'UserLanguage', 'Q89_First Click',\n",
       "       'Q89_Last Click', 'Q89_Page Submit', 'Q89_Click Count',\n",
       "       'Q102_First Click', 'Q102_Last Click', 'Q102_Page Submit',\n",
       "       'Q102_Click Count', 'quiz_highIn.', 'quiz_lowIn.', 'quiz_lowF.',\n",
       "       'quiz_highF.', 'Q149_First Click', 'Q149_Last Click',\n",
       "       'Q149_Page Submit', 'Q149_Click Count', 'quiz_lowIn.2', 'quiz_highIn.2',\n",
       "       'quiz_lowF.2', 'quiz_highF.2', 'dv_host', 'dv_accept',\n",
       "       'Q55_First Click', 'Q55_Last Click', 'Q55_Page Submit',\n",
       "       'Q55_Click Count', 'med_trust', 'med_trustworthy', 'check_inequality',\n",
       "       'check_familiarity', 'host_exp', 'general_familiarity',\n",
       "       'general_attitudes', 'econ', 'econ_inequality', 'gender', 'age', 'edu',\n",
       "       'income', 'social_class', 'ideology', 'affiliation', 'hispanic',\n",
       "       'ethinicity', 'Q275', 'Q276', 'Q277', 'Q278', 'Q279', 'Q280',\n",
       "       'mTurkCode', 'inequality_des', 'inequality', 'familiarity_des',\n",
       "       'familiarity', 'wave', 'id'],\n",
       "      dtype='object')"
      ]
     },
     "execution_count": 13,
     "metadata": {},
     "output_type": "execute_result"
    }
   ],
   "source": [
    "df.columns"
   ]
  },
  {
   "cell_type": "code",
   "execution_count": 14,
   "id": "fc2eae96-c539-4be7-86b4-64834bc1e623",
   "metadata": {},
   "outputs": [],
   "source": [
    "def parsedata(focal_con_num, mod_con_num, var_list, df):\n",
    "    \n",
    "    df_parsed = df[(df['inequality'] == focal_con_num) & (df['familiarity'] == mod_con_num)]\n",
    "    \n",
    "    return df_parsed[var_list]"
   ]
  },
  {
   "cell_type": "code",
   "execution_count": 17,
   "id": "88c3a478-8a70-4d53-8575-27f6085db09a",
   "metadata": {},
   "outputs": [],
   "source": [
    "var_list = ['id','inequality','familiarity','Duration (in seconds)',\n",
    "            'dv_host', 'dv_accept',\n",
    "            'med_trust', 'med_trustworthy',\n",
    "            'check_inequality','check_familiarity']"
   ]
  },
  {
   "cell_type": "code",
   "execution_count": 18,
   "id": "a550598a-001b-422d-b212-3ee3515b9fd3",
   "metadata": {},
   "outputs": [],
   "source": [
    "df_low_low = parsedata(0, 0, var_list, df)\n",
    "df_low_high = parsedata(0, 1, var_list, df)\n",
    "df_high_low = parsedata(1, 0, var_list, df)\n",
    "df_high_high = parsedata(1, 1,var_list, df)"
   ]
  },
  {
   "cell_type": "code",
   "execution_count": 19,
   "id": "c2370446-8e63-4b8f-af4b-4d540b802c9d",
   "metadata": {},
   "outputs": [],
   "source": [
    "def calculateMahalanobis(df, scale_list):\n",
    "\n",
    "    \n",
    "    x = df[scale_list].values\n",
    "    mu =np.mean(x, axis = 0)\n",
    "    \n",
    "    cov = np.cov(x.T)\n",
    "    \n",
    "    inv_covmat = np.linalg.inv(cov)\n",
    "    \n",
    "    left = np.dot((x-mu), inv_covmat)\n",
    "    \n",
    "    mahal = np.dot(left, (x-mu).T)\n",
    "    \n",
    "    df['Mahalanobis'] = mahal.diagonal()\n",
    "    \n",
    "    dof = x.shape[1]-1\n",
    "    \n",
    "    df['p'] = 1 - chi2.cdf(df['Mahalanobis'], dof)\n",
    "    df['p'] = np.round(df['p'],4)\n",
    "\n",
    "    return df"
   ]
  },
  {
   "cell_type": "code",
   "execution_count": 40,
   "id": "6ac30695-98fc-4b5b-ad84-0b477fdbf6a8",
   "metadata": {},
   "outputs": [],
   "source": [
    "scale_list = ['dv_host', 'dv_accept',\n",
    "              'med_trust', 'med_trustworthy', \n",
    "              'check_inequality','check_familiarity']\n",
    "\n",
    "df_MD = pd.concat([calculateMahalanobis(df_low_low, scale_list),\n",
    "                   calculateMahalanobis(df_low_high, scale_list),\n",
    "                   calculateMahalanobis(df_high_low, scale_list),\n",
    "                   calculateMahalanobis(df_high_high, scale_list)])\n",
    "\n",
    "df_MD['dv'] = np.mean([df_MD.dv_host.values, df_MD.dv_accept.values], axis = 0)\n",
    "df_MD['med'] = np.mean([df_MD.med_trust.values, df_MD.med_trustworthy.values], axis = 0)\n",
    "\n",
    "df_MD.reset_index(inplace = True, drop = True)"
   ]
  },
  {
   "cell_type": "code",
   "execution_count": 54,
   "id": "a220c4d6-c809-4047-ad22-b52d412e5115",
   "metadata": {},
   "outputs": [],
   "source": [
    "def p_value_pattern(df, dv, title):\n",
    "    \n",
    "    x = np.arange(0.001, 0.1, 0.001)\n",
    "    y = np.zeros(x.shape[0])\n",
    "    \n",
    "    for i,j in enumerate(x):\n",
    "        df_MD_selected = df[df['p'] >= j]\n",
    "        anova_output = df_MD_selected.anova(dv=dv, between=[\"inequality\", \"familiarity\"]).round(3)\n",
    "        y[i] = (anova_output['p-unc'][2])\n",
    "    \n",
    "    if y.min() <= 0.05:\n",
    "        cutoff_index = np.where(y <= 0.05)[0][[0]]\n",
    "        x_cutoff  = x[cutoff_index][0]\n",
    "        y_cutoff = y[cutoff_index][0]\n",
    "        \n",
    "        plt.axvline(x = x_cutoff, ls = ':', ymax = 0.2, color = 'r')\n",
    "        plt.axhline(y = .05, ls = '--', color = 'r')\n",
    "        print('the cutoff point for outlier is  {} (the corresponding p-value of the interaction is {})'.format(round(x_cutoff,3),y_cutoff))\n",
    "    else: \n",
    "        print('p-value of the interaction is always > 0.05') \n",
    "                                                                                                                 \n",
    "    print('the sample size is {}'.format(df.shape[0]))\n",
    "    plt.title(title)\n",
    "    plt.scatter(x = x, y = y)\n",
    "    plt.xlabel('outlier_cutoff')\n",
    "    plt.ylabel('p_value for interaction')\n",
    "    plt.show()"
   ]
  },
  {
   "cell_type": "code",
   "execution_count": 55,
   "id": "ed67b59f-37e3-493b-8d88-4d0a1881cdb4",
   "metadata": {},
   "outputs": [
    {
     "name": "stdout",
     "output_type": "stream",
     "text": [
      "the cutoff point for outlier is  0.001 (the corresponding p-value of the interaction is 0.002)\n",
      "the sample size is 394\n"
     ]
    },
    {
     "data": {
      "image/png": "[encoded data removed]",
      "text/plain": [
       "<Figure size 640x480 with 1 Axes>"
      ]
     },
     "metadata": {},
     "output_type": "display_data"
    }
   ],
   "source": [
    "p_value_pattern(df_MD, 'dv','E4, dv')"
   ]
  },
  {
   "cell_type": "code",
   "execution_count": 56,
   "id": "877e5def-ffc6-4b98-a85c-427eb1f4560a",
   "metadata": {},
   "outputs": [
    {
     "name": "stdout",
     "output_type": "stream",
     "text": [
      "the cutoff point for outlier is  0.001 (the corresponding p-value of the interaction is 0.031)\n",
      "the sample size is 394\n"
     ]
    },
    {
     "data": {
      "image/png": "[encoded data removed]",
      "text/plain": [
       "<Figure size 640x480 with 1 Axes>"
      ]
     },
     "metadata": {},
     "output_type": "display_data"
    }
   ],
   "source": [
    "p_value_pattern(df_MD, 'med', 'E4, mediator')"
   ]
  },
  {
   "cell_type": "code",
   "execution_count": 50,
   "id": "1205b4ac-e699-442a-88a7-e2b4c2f775ca",
   "metadata": {},
   "outputs": [
    {
     "data": {
      "text/plain": [
       "inequality  familiarity\n",
       "0           0              6\n",
       "            1              7\n",
       "1           0              4\n",
       "            1              5\n",
       "dtype: int64"
      ]
     },
     "execution_count": 50,
     "metadata": {},
     "output_type": "execute_result"
    }
   ],
   "source": [
    "#given the convention, drop the extreme ouliers (p_md <= 0.001) and run do the ANOVA analysis\n",
    "df_MD[df_MD.p <= 0.001].groupby(by = ['inequality','familiarity']).size()"
   ]
  },
  {
   "cell_type": "code",
   "execution_count": 51,
   "id": "435e0745-5e7d-44ee-a27e-3d3bfc578fdb",
   "metadata": {},
   "outputs": [],
   "source": [
    "df_MD_no_outliers = df_MD[df_MD.p > 0.001]"
   ]
  },
  {
   "cell_type": "code",
   "execution_count": 53,
   "id": "cfb6add3-fb08-43bb-8e85-7b572b0f8334",
   "metadata": {},
   "outputs": [
    {
     "data": {
      "text/html": [
       "<div>\n",
       "<style scoped>\n",
       "    .dataframe tbody tr th:only-of-type {\n",
       "        vertical-align: middle;\n",
       "    }\n",
       "\n",
       "    .dataframe tbody tr th {\n",
       "        vertical-align: top;\n",
       "    }\n",
       "\n",
       "    .dataframe thead th {\n",
       "        text-align: right;\n",
       "    }\n",
       "</style>\n",
       "<table border=\"1\" class=\"dataframe\">\n",
       "  <thead>\n",
       "    <tr style=\"text-align: right;\">\n",
       "      <th></th>\n",
       "      <th>Source</th>\n",
       "      <th>SS</th>\n",
       "      <th>DF</th>\n",
       "      <th>MS</th>\n",
       "      <th>F</th>\n",
       "      <th>p-unc</th>\n",
       "      <th>np2</th>\n",
       "    </tr>\n",
       "  </thead>\n",
       "  <tbody>\n",
       "    <tr>\n",
       "      <th>0</th>\n",
       "      <td>inequality</td>\n",
       "      <td>42.301</td>\n",
       "      <td>1.0</td>\n",
       "      <td>42.301</td>\n",
       "      <td>32.187</td>\n",
       "      <td>0.000</td>\n",
       "      <td>0.080</td>\n",
       "    </tr>\n",
       "    <tr>\n",
       "      <th>1</th>\n",
       "      <td>familiarity</td>\n",
       "      <td>107.174</td>\n",
       "      <td>1.0</td>\n",
       "      <td>107.174</td>\n",
       "      <td>81.549</td>\n",
       "      <td>0.000</td>\n",
       "      <td>0.181</td>\n",
       "    </tr>\n",
       "    <tr>\n",
       "      <th>2</th>\n",
       "      <td>inequality * familiarity</td>\n",
       "      <td>12.808</td>\n",
       "      <td>1.0</td>\n",
       "      <td>12.808</td>\n",
       "      <td>9.746</td>\n",
       "      <td>0.002</td>\n",
       "      <td>0.026</td>\n",
       "    </tr>\n",
       "    <tr>\n",
       "      <th>3</th>\n",
       "      <td>Residual</td>\n",
       "      <td>483.636</td>\n",
       "      <td>368.0</td>\n",
       "      <td>1.314</td>\n",
       "      <td>NaN</td>\n",
       "      <td>NaN</td>\n",
       "      <td>NaN</td>\n",
       "    </tr>\n",
       "  </tbody>\n",
       "</table>\n",
       "</div>"
      ],
      "text/plain": [
       "                     Source       SS     DF       MS       F  p-unc    np2\n",
       "0                inequality   42.301    1.0   42.301  32.187  0.000  0.080\n",
       "1               familiarity  107.174    1.0  107.174  81.549  0.000  0.181\n",
       "2  inequality * familiarity   12.808    1.0   12.808   9.746  0.002  0.026\n",
       "3                  Residual  483.636  368.0    1.314     NaN    NaN    NaN"
      ]
     },
     "execution_count": 53,
     "metadata": {},
     "output_type": "execute_result"
    }
   ],
   "source": [
    "df_MD_no_outliers.anova(dv='dv', between=[\"inequality\", \"familiarity\"]).round(3)"
   ]
  },
  {
   "cell_type": "code",
   "execution_count": 52,
   "id": "60a48d7d-8f36-496d-9bab-3b72e47fdda3",
   "metadata": {},
   "outputs": [
    {
     "data": {
      "text/html": [
       "<div>\n",
       "<style scoped>\n",
       "    .dataframe tbody tr th:only-of-type {\n",
       "        vertical-align: middle;\n",
       "    }\n",
       "\n",
       "    .dataframe tbody tr th {\n",
       "        vertical-align: top;\n",
       "    }\n",
       "\n",
       "    .dataframe thead th {\n",
       "        text-align: right;\n",
       "    }\n",
       "</style>\n",
       "<table border=\"1\" class=\"dataframe\">\n",
       "  <thead>\n",
       "    <tr style=\"text-align: right;\">\n",
       "      <th></th>\n",
       "      <th>Source</th>\n",
       "      <th>SS</th>\n",
       "      <th>DF</th>\n",
       "      <th>MS</th>\n",
       "      <th>F</th>\n",
       "      <th>p-unc</th>\n",
       "      <th>np2</th>\n",
       "    </tr>\n",
       "  </thead>\n",
       "  <tbody>\n",
       "    <tr>\n",
       "      <th>0</th>\n",
       "      <td>inequality</td>\n",
       "      <td>73.598</td>\n",
       "      <td>1.0</td>\n",
       "      <td>73.598</td>\n",
       "      <td>57.190</td>\n",
       "      <td>0.000</td>\n",
       "      <td>0.135</td>\n",
       "    </tr>\n",
       "    <tr>\n",
       "      <th>1</th>\n",
       "      <td>familiarity</td>\n",
       "      <td>70.886</td>\n",
       "      <td>1.0</td>\n",
       "      <td>70.886</td>\n",
       "      <td>55.082</td>\n",
       "      <td>0.000</td>\n",
       "      <td>0.130</td>\n",
       "    </tr>\n",
       "    <tr>\n",
       "      <th>2</th>\n",
       "      <td>inequality * familiarity</td>\n",
       "      <td>6.065</td>\n",
       "      <td>1.0</td>\n",
       "      <td>6.065</td>\n",
       "      <td>4.713</td>\n",
       "      <td>0.031</td>\n",
       "      <td>0.013</td>\n",
       "    </tr>\n",
       "    <tr>\n",
       "      <th>3</th>\n",
       "      <td>Residual</td>\n",
       "      <td>473.586</td>\n",
       "      <td>368.0</td>\n",
       "      <td>1.287</td>\n",
       "      <td>NaN</td>\n",
       "      <td>NaN</td>\n",
       "      <td>NaN</td>\n",
       "    </tr>\n",
       "  </tbody>\n",
       "</table>\n",
       "</div>"
      ],
      "text/plain": [
       "                     Source       SS     DF      MS       F  p-unc    np2\n",
       "0                inequality   73.598    1.0  73.598  57.190  0.000  0.135\n",
       "1               familiarity   70.886    1.0  70.886  55.082  0.000  0.130\n",
       "2  inequality * familiarity    6.065    1.0   6.065   4.713  0.031  0.013\n",
       "3                  Residual  473.586  368.0   1.287     NaN    NaN    NaN"
      ]
     },
     "execution_count": 52,
     "metadata": {},
     "output_type": "execute_result"
    }
   ],
   "source": [
    "df_MD_no_outliers.anova(dv='med', between=[\"inequality\", \"familiarity\"]).round(3)"
   ]
  },
  {
   "cell_type": "code",
   "execution_count": 57,
   "id": "1c00fe0b-23c8-406c-9c15-b3d1685ee919",
   "metadata": {},
   "outputs": [],
   "source": [
    "from pyprocessmacro import Process"
   ]
  },
  {
   "cell_type": "code",
   "execution_count": 73,
   "id": "960b3535-1ca6-45d3-b8f1-bf504ab92bfb",
   "metadata": {},
   "outputs": [
    {
     "name": "stdout",
     "output_type": "stream",
     "text": [
      "Process successfully initialized.\n",
      "Based on the Process Macro by Andrew F. Hayes, Ph.D. (www.afhayes.com)\n",
      "\n",
      "\n",
      "****************************** SPECIFICATION ****************************\n",
      "\n",
      "Model = 7\n",
      "\n",
      "Variables:\n",
      "    Cons = Cons\n",
      "    x = inequality\n",
      "    y = dv\n",
      "    m1 = med\n",
      "    w = familiarity\n",
      "\n",
      "Sample size:\n",
      "372\n",
      "\n",
      "Bootstrapping information for indirect effects:\n",
      "Final number of bootstrap samples: 5000\n",
      "Number of samples discarded due to convergence issues: 0\n",
      "\n",
      "***************************** OUTCOME MODELS ****************************\n",
      "\n",
      "Outcome = dv \n",
      "OLS Regression Summary\n",
      "\n",
      "     R²  Adj. R²    MSE        F  df1  df2  p-value\n",
      " 0.4622   0.4578 0.9404 158.5561    2  369   0.0000\n",
      "\n",
      "Coefficients\n",
      "\n",
      "             coeff     se       t      p    LLCI   ULCI\n",
      "Cons        2.5063 0.2482 10.0997 0.0000  2.0199 2.9926\n",
      "inequality -0.0645 0.1070 -0.6028 0.5470 -0.2743 0.1452\n",
      "med         0.6827 0.0413 16.5195 0.0000  0.6017 0.7637\n",
      "\n",
      "-------------------------------------------------------------------------\n",
      "\n",
      "Outcome = med \n",
      "OLS Regression Summary\n",
      "\n",
      "     R²  Adj. R²    MSE       F  df1  df2  p-value\n",
      " 0.2403   0.2320 1.2869 38.7947    3  368   0.0000\n",
      "\n",
      "Coefficients\n",
      "\n",
      "                         coeff     se       t      p    LLCI    ULCI\n",
      "Cons                    5.4474 0.1164 46.8029 0.0000  5.2192  5.6755\n",
      "inequality             -1.1452 0.1664 -6.8821 0.0000 -1.4713 -0.8190\n",
      "familiarity             0.6218 0.1650  3.7675 0.0002  0.2983  0.9452\n",
      "inequality*familiarity  0.5108 0.2353  2.1708 0.0306  0.0496  0.9720\n",
      "\n",
      "-------------------------------------------------------------------------\n",
      "\n",
      "\n",
      "********************** DIRECT AND INDIRECT EFFECTS **********************\n",
      "\n",
      "Direct effect of inequality on dv:\n",
      "\n",
      "  Effect     SE       t      p    LLCI   ULCI\n",
      " -0.0645 0.1070 -0.6028 0.5470 -0.2743 0.1452\n",
      "\n",
      "Conditional indirect effect(s) of inequality on dv at values of the moderator(s):\n",
      "\n",
      " Mediator  familiarity  Effect  Boot SE  BootLLCI  BootULCI\n",
      "      med       0.0000 -0.7819   0.1458   -1.0972   -0.5218\n",
      "      med       1.0000 -0.4331   0.1087   -0.6621   -0.2339\n",
      "\n",
      "**************** INDEX OF MODERATED MEDIATION ******************\n",
      "\n",
      "    Moderator Mediator  Index  Boot SE   LLCI   ULCI\n",
      "  familiarity      med 0.3487   0.1640 0.0462 0.6899\n",
      "\n",
      "\n"
     ]
    }
   ],
   "source": [
    "process_results = Process(data = df_MD_no_outliers, model = 7, \n",
    "                          x = 'inequality', y = 'dv', \n",
    "                          m = ['med'], w = 'familiarity')\n",
    "process_results.summary()"
   ]
  },
  {
   "cell_type": "code",
   "execution_count": null,
   "id": "ea276826-166b-465a-8247-f60bd95b1dab",
   "metadata": {},
   "outputs": [],
   "source": []
  }
 ],
 "metadata": {
  "kernelspec": {
   "display_name": "Python 3",
   "language": "python",
   "name": "python3"
  },
  "language_info": {
   "codemirror_mode": {
    "name": "ipython",
    "version": 3
   },
   "file_extension": ".py",
   "mimetype": "text/x-python",
   "name": "python",
   "nbconvert_exporter": "python",
   "pygments_lexer": "ipython3",
   "version": "3.8.8"
  }
 },
 "nbformat": 4,
 "nbformat_minor": 5
}
