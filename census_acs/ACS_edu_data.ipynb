{
 "cells": [
  {
   "cell_type": "markdown",
   "id": "2b6c6076-b582-40ba-b0fb-336b4895c53c",
   "metadata": {
    "tags": []
   },
   "source": [
    "# import libraries"
   ]
  },
  {
   "cell_type": "code",
   "execution_count": 3,
   "id": "64057f19-6bc7-4e05-929a-d03aa242e196",
   "metadata": {},
   "outputs": [],
   "source": [
    "import pandas as pd\n",
    "import numpy as np\n",
    "\n",
    "import seaborn as sns\n",
    "import matplotlib\n",
    "from matplotlib import pyplot as plt"
   ]
  },
  {
   "cell_type": "code",
   "execution_count": 4,
   "id": "726c1ce9-ae2e-4a34-83cc-506727afdce6",
   "metadata": {},
   "outputs": [],
   "source": [
    "from sklearn.compose import ColumnTransformer\n",
    "from sklearn.preprocessing import StandardScaler"
   ]
  },
  {
   "cell_type": "code",
   "execution_count": 5,
   "id": "22e2806a-7376-47e4-9183-df3af7abd2a5",
   "metadata": {},
   "outputs": [],
   "source": [
    "from scipy import stats"
   ]
  },
  {
   "cell_type": "code",
   "execution_count": 6,
   "id": "239000be-1240-41c1-8cc9-65e595bfc3b4",
   "metadata": {},
   "outputs": [],
   "source": [
    "import statsmodels\n",
    "import statsmodels.api as sm\n",
    "import statsmodels.formula.api as smf"
   ]
  },
  {
   "cell_type": "code",
   "execution_count": 7,
   "id": "7f3766af-8aa7-46fe-9bfe-e1537f0dbdd7",
   "metadata": {},
   "outputs": [],
   "source": [
    "import pingouin as pg"
   ]
  },
  {
   "cell_type": "code",
   "execution_count": 8,
   "id": "d42c7d1c-42dd-49f2-9b67-a072320ec22d",
   "metadata": {},
   "outputs": [],
   "source": [
    "import censusdata"
   ]
  },
  {
   "cell_type": "markdown",
   "id": "4ed3e75d-5c24-4901-900a-dbde2c086cc0",
   "metadata": {
    "tags": []
   },
   "source": [
    "# data collection"
   ]
  },
  {
   "cell_type": "markdown",
   "id": "f5b6f343-5c24-46b9-a4fe-5a3d7c208890",
   "metadata": {
    "tags": []
   },
   "source": [
    "## retrieve county-level inequality data"
   ]
  },
  {
   "cell_type": "markdown",
   "id": "22a890f7-5085-4d67-a5d2-5474aeef942c",
   "metadata": {
    "tags": []
   },
   "source": [
    "### define collection function ```CensusGini```"
   ]
  },
  {
   "cell_type": "code",
   "execution_count": 8,
   "id": "200eaed3-9206-4247-8a38-92faa0da1800",
   "metadata": {},
   "outputs": [],
   "source": [
    "def CensusGini(year, est):\n",
    "    df_gini = censusdata.download(est, year, censusdata.censusgeo([('county','*')]), \n",
    "                                   ['GEO_ID','B19083_001E','B19013_001E','B01003_001E']) ## also retrive the median household income in the past 12 months and population\n",
    "    \n",
    "    county = df_gini.reset_index()['index'].apply(lambda x: str(x).split(\",\")[0]).tolist()\n",
    "    state = df_gini.reset_index()['index'].apply(lambda x: str(x).split(\",\")[1].split(':')[0].strip()).tolist()\n",
    "\n",
    "    df_gini['County'] = county\n",
    "    df_gini['State'] = state\n",
    "    df_gini['Year'] = np.repeat(year,df_gini.shape[0])\n",
    "    \n",
    "    df_gini.rename(columns = {'GEO_ID':'GEO_ID','B19083_001E':'gini','B19013_001E':'income','B01003_001E':'population'},inplace=True)\n",
    "    df_gini.reset_index(inplace = True)\n",
    "    df_gini.drop(columns=['index'],inplace = True)\n",
    "    \n",
    "    return(df_gini)"
   ]
  },
  {
   "cell_type": "markdown",
   "id": "c29df7e1-f286-4551-9307-4a32941f162f",
   "metadata": {
    "tags": []
   },
   "source": [
    "### collect county-level Gini indice"
   ]
  },
  {
   "cell_type": "code",
   "execution_count": 9,
   "id": "286bd33b-6f1d-445e-9401-9ac10a0c045a",
   "metadata": {},
   "outputs": [],
   "source": [
    "df_gini = pd.DataFrame()\n",
    "\n",
    "for i in range(2010,2020):\n",
    "    df_temp = CensusGini(i,'acs5')\n",
    "    df_gini = pd.concat([df_gini,df_temp])"
   ]
  },
  {
   "cell_type": "code",
   "execution_count": 10,
   "id": "13fa6f1a-e432-4d28-936d-9eedffb6f77d",
   "metadata": {},
   "outputs": [],
   "source": [
    "df_gini.sort_values(by = ['GEO_ID','Year'], inplace = True)"
   ]
  },
  {
   "cell_type": "code",
   "execution_count": 11,
   "id": "6832ed45-2ea4-4370-aeae-29d891b25333",
   "metadata": {},
   "outputs": [],
   "source": [
    "#drop PR\n",
    "\n",
    "df_gini = df_gini[df_gini['State'] != 'Puerto Rico']"
   ]
  },
  {
   "cell_type": "markdown",
   "id": "9967e170-363c-4952-aa5b-9f7a7ce1b3f9",
   "metadata": {
    "tags": []
   },
   "source": [
    "## retrieve ten-year county-level education data"
   ]
  },
  {
   "cell_type": "markdown",
   "id": "890821c8-aded-4784-9f7a-71af64a7c4ff",
   "metadata": {
    "jp-MarkdownHeadingCollapsed": true,
    "tags": []
   },
   "source": [
    "### define collection function ```CensusEdu``` for collecting S1501 and S1401"
   ]
  },
  {
   "cell_type": "code",
   "execution_count": 12,
   "id": "41f8cb50-8638-43b2-926f-9c5808e7b9d6",
   "metadata": {},
   "outputs": [],
   "source": [
    "def CensusEdu(year, var_dict, est):\n",
    "    \n",
    "    variable_list = \",\".join([key for key in var_dict.keys()])\n",
    "    \n",
    "    url = 'https://api.census.gov/data/'+year+'/acs/'+est+'/subject?get=NAME,GEO_ID,'+variable_list+'&for=county:*'\n",
    "    \n",
    "    df_edu = pd.read_json(url)\n",
    "    df_edu = df_edu.rename(columns=df_edu.iloc[0]).drop(df_edu.index[0])\n",
    "    df_edu = df_edu.rename(columns = var_dict)\n",
    "    \n",
    "    df_edu['County']= df_edu.NAME.apply(lambda x: x.split(',')).apply(lambda y:y[0])\n",
    "    df_edu['State']= df_edu.NAME.apply(lambda x: x.split(',')).apply(lambda y:y[1].strip())\n",
    "    df_edu['Year'] = int(year)\n",
    "    \n",
    "    return df_edu"
   ]
  },
  {
   "cell_type": "markdown",
   "id": "4574761d-bce5-4923-a0a4-3a77e14541c9",
   "metadata": {
    "jp-MarkdownHeadingCollapsed": true,
    "tags": []
   },
   "source": [
    "### collect Education Attainment (S1501)"
   ]
  },
  {
   "cell_type": "markdown",
   "id": "bde30e97-a287-4162-82a5-8761e335ae55",
   "metadata": {},
   "source": [
    "#### create variable dictionaries"
   ]
  },
  {
   "cell_type": "code",
   "execution_count": 13,
   "id": "4d97cc8d-1b0b-4644-a21f-b8ab994a992f",
   "metadata": {},
   "outputs": [],
   "source": [
    "#dictionary for year 2010-2014\n",
    "edu_attain_dict1 = {'S1501_C01_001E':'pop_total_18_24',\n",
    "                    'S1501_C01_016E':'pop_total_25_34',\n",
    "                    'S1501_C01_006E':'pop_total_25_plus',\n",
    "                    \n",
    "                    'S1501_C01_003E':'hs_18_24',\n",
    "                    'S1501_C01_004E':'some_college_asso_18_24',\n",
    "                    'S1501_C01_005E':'ba_higher_18_24',\n",
    "                     \n",
    "                    'S1501_C01_009E':'hs_25_plus',\n",
    "                    'S1501_C01_010E':'some_college_25_plus',\n",
    "                    'S1501_C01_011E':'asso_25_plus',\n",
    "                    'S1501_C01_012E':'ba_25_plus',\n",
    "                    'S1501_C01_013E':'grad_prof_25_plus', \n",
    "                     \n",
    "                    'S1501_C01_014E':'hs_higher_25_plus',\n",
    "                    'S1501_C01_015E':'ba_higher_25_plus',\n",
    "                    \n",
    "                    'S1501_C01_017E':'hs_higher_25_34', \n",
    "                    'S1501_C01_018E':'ba_higher_25_34'} "
   ]
  },
  {
   "cell_type": "code",
   "execution_count": null,
   "id": "71bcd930-d0ff-403e-a79b-bf93857369d7",
   "metadata": {},
   "outputs": [],
   "source": [
    "#dictionary for 2015-2019\n",
    "edu_attain_dict2 = {'S1501_C01_001E':'pop_total_18_24',\n",
    "                    'S1501_C01_016E':'pop_total_25_34',\n",
    "                    'S1501_C01_006E':'pop_total_25_plus',\n",
    "                    \n",
    "                    'S1501_C02_003E':'hs_18_24',\n",
    "                    'S1501_C02_004E':'some_college_asso_18_24',\n",
    "                    'S1501_C02_005E':'ba_higher_18_24',\n",
    "                    \n",
    "                    'S1501_C02_009E':'hs_25_plus',\n",
    "                    'S1501_C02_010E':'some_college_25_plus',\n",
    "                    'S1501_C02_011E':'asso_25_plus',\n",
    "                    'S1501_C02_012E':'ba_25_plus',\n",
    "                    'S1501_C02_013E':'grad_prof_25_plus',\n",
    "                    \n",
    "                    'S1501_C02_014E':'hs_higher_25_plus',\n",
    "                    'S1501_C02_015E':'ba_higher_25_plus',\n",
    "                    \n",
    "                    'S1501_C02_017E':'hs_higher_25_34',\n",
    "                    'S1501_C02_018E':'ba_higher_25_34'}"
   ]
  },
  {
   "cell_type": "markdown",
   "id": "82c47f76-2960-482d-a206-a95855a874f9",
   "metadata": {},
   "source": [
    "#### define collcetion function ```CollectAttainData```"
   ]
  },
  {
   "cell_type": "code",
   "execution_count": 168,
   "id": "29983c85-07a5-431f-8dd4-913cf3165a3b",
   "metadata": {},
   "outputs": [],
   "source": [
    "#define the collection function\n",
    "def CollectAttainData(est):\n",
    "    df_edu_attain1 = pd.DataFrame()\n",
    "    df_edu_attain2 = pd.DataFrame()\n",
    "    \n",
    "    for i in range(2010,2015):\n",
    "        df_temp = CensusEdu(str(i), edu_attain_dict1, est)\n",
    "        df_edu_attain1 = pd.concat([df_edu_attain1, df_temp])\n",
    "        \n",
    "    for i in range(2015,2020):\n",
    "        df_temp = CensusEdu(str(i), edu_attain_dict2, est)\n",
    "        df_edu_attain2 = pd.concat([df_edu_attain2, df_temp])\n",
    "        \n",
    "    df_edu_attain = pd.concat([df_edu_attain1,df_edu_attain2],axis = 0).sort_values(by = ['GEO_ID','Year'])\n",
    "    \n",
    "    df_edu_attain[df_edu_attain.columns[2:17]] = df_edu_attain[df_edu_attain.columns[2:17]].astype('float')\n",
    "    \n",
    "    df_edu_attain['Year'] = df_edu_attain['Year'].astype('int')\n",
    "    df_edu_attain['state'] = df_edu_attain['state'].astype('int')\n",
    "    df_edu_attain['county'] = df_edu_attain['county'].astype('int')\n",
    "    \n",
    "    \n",
    "    return df_edu_attain"
   ]
  },
  {
   "cell_type": "markdown",
   "id": "8ba0d734-ce45-40eb-a7d8-2455286fd17c",
   "metadata": {},
   "source": [
    "##### collect one-year estimates"
   ]
  },
  {
   "cell_type": "code",
   "execution_count": 94,
   "id": "b3044464-b6d5-4a94-8b99-fe8b54f59788",
   "metadata": {},
   "outputs": [],
   "source": [
    "#collect 1y-est\n",
    "df_edu_attain_1y = CollectAttainData('acs1')"
   ]
  },
  {
   "cell_type": "code",
   "execution_count": 95,
   "id": "a7bf3764-78b3-4820-8a6a-d5b9718df24c",
   "metadata": {},
   "outputs": [
    {
     "data": {
      "text/html": [
       "<div>\n",
       "<style scoped>\n",
       "    .dataframe tbody tr th:only-of-type {\n",
       "        vertical-align: middle;\n",
       "    }\n",
       "\n",
       "    .dataframe tbody tr th {\n",
       "        vertical-align: top;\n",
       "    }\n",
       "\n",
       "    .dataframe thead th {\n",
       "        text-align: right;\n",
       "    }\n",
       "</style>\n",
       "<table border=\"1\" class=\"dataframe\">\n",
       "  <thead>\n",
       "    <tr style=\"text-align: right;\">\n",
       "      <th></th>\n",
       "      <th>NAME</th>\n",
       "      <th>GEO_ID</th>\n",
       "      <th>pop_total_18_24</th>\n",
       "      <th>pop_total_25_34</th>\n",
       "      <th>pop_total_25_plus</th>\n",
       "      <th>hs_18_24</th>\n",
       "      <th>some_college_asso_18_24</th>\n",
       "      <th>ba_higher_18_24</th>\n",
       "      <th>hs_25_plus</th>\n",
       "      <th>some_college_25_plus</th>\n",
       "      <th>...</th>\n",
       "      <th>grad_prof_25_plus</th>\n",
       "      <th>hs_higher_25_plus</th>\n",
       "      <th>ba_higher_25_plus</th>\n",
       "      <th>hs_higher_25_34</th>\n",
       "      <th>ba_higher_25_34</th>\n",
       "      <th>state</th>\n",
       "      <th>county</th>\n",
       "      <th>County</th>\n",
       "      <th>State</th>\n",
       "      <th>Year</th>\n",
       "    </tr>\n",
       "  </thead>\n",
       "  <tbody>\n",
       "    <tr>\n",
       "      <th>130</th>\n",
       "      <td>Baldwin County, Alabama</td>\n",
       "      <td>0500000US01003</td>\n",
       "      <td>13087.0</td>\n",
       "      <td>21568.0</td>\n",
       "      <td>127969.0</td>\n",
       "      <td>34.7</td>\n",
       "      <td>32.2</td>\n",
       "      <td>10.7</td>\n",
       "      <td>30.7</td>\n",
       "      <td>22.0</td>\n",
       "      <td>...</td>\n",
       "      <td>7.4</td>\n",
       "      <td>87.7</td>\n",
       "      <td>27.2</td>\n",
       "      <td>80.8</td>\n",
       "      <td>29.8</td>\n",
       "      <td>1</td>\n",
       "      <td>3</td>\n",
       "      <td>Baldwin County</td>\n",
       "      <td>Alabama</td>\n",
       "      <td>2010</td>\n",
       "    </tr>\n",
       "    <tr>\n",
       "      <th>385</th>\n",
       "      <td>Baldwin County, Alabama</td>\n",
       "      <td>0500000US01003</td>\n",
       "      <td>13225.0</td>\n",
       "      <td>23402.0</td>\n",
       "      <td>131214.0</td>\n",
       "      <td>38.5</td>\n",
       "      <td>40.2</td>\n",
       "      <td>8.9</td>\n",
       "      <td>29.9</td>\n",
       "      <td>23.9</td>\n",
       "      <td>...</td>\n",
       "      <td>9.9</td>\n",
       "      <td>90.4</td>\n",
       "      <td>28.3</td>\n",
       "      <td>94.4</td>\n",
       "      <td>25.6</td>\n",
       "      <td>1</td>\n",
       "      <td>3</td>\n",
       "      <td>Baldwin County</td>\n",
       "      <td>Alabama</td>\n",
       "      <td>2011</td>\n",
       "    </tr>\n",
       "    <tr>\n",
       "      <th>328</th>\n",
       "      <td>Baldwin County, Alabama</td>\n",
       "      <td>0500000US01003</td>\n",
       "      <td>14842.0</td>\n",
       "      <td>22639.0</td>\n",
       "      <td>133433.0</td>\n",
       "      <td>31.4</td>\n",
       "      <td>51.0</td>\n",
       "      <td>3.7</td>\n",
       "      <td>28.4</td>\n",
       "      <td>23.7</td>\n",
       "      <td>...</td>\n",
       "      <td>10.0</td>\n",
       "      <td>89.2</td>\n",
       "      <td>29.1</td>\n",
       "      <td>80.4</td>\n",
       "      <td>19.3</td>\n",
       "      <td>1</td>\n",
       "      <td>3</td>\n",
       "      <td>Baldwin County</td>\n",
       "      <td>Alabama</td>\n",
       "      <td>2012</td>\n",
       "    </tr>\n",
       "    <tr>\n",
       "      <th>696</th>\n",
       "      <td>Baldwin County, Alabama</td>\n",
       "      <td>0500000US01003</td>\n",
       "      <td>16219.0</td>\n",
       "      <td>23066.0</td>\n",
       "      <td>135016.0</td>\n",
       "      <td>32.6</td>\n",
       "      <td>30.2</td>\n",
       "      <td>11.6</td>\n",
       "      <td>29.3</td>\n",
       "      <td>22.0</td>\n",
       "      <td>...</td>\n",
       "      <td>9.2</td>\n",
       "      <td>90.6</td>\n",
       "      <td>29.0</td>\n",
       "      <td>89.1</td>\n",
       "      <td>25.9</td>\n",
       "      <td>1</td>\n",
       "      <td>3</td>\n",
       "      <td>Baldwin County</td>\n",
       "      <td>Alabama</td>\n",
       "      <td>2013</td>\n",
       "    </tr>\n",
       "    <tr>\n",
       "      <th>217</th>\n",
       "      <td>Baldwin County, Alabama</td>\n",
       "      <td>0500000US01003</td>\n",
       "      <td>14901.0</td>\n",
       "      <td>23464.0</td>\n",
       "      <td>140588.0</td>\n",
       "      <td>33.6</td>\n",
       "      <td>28.9</td>\n",
       "      <td>8.6</td>\n",
       "      <td>25.5</td>\n",
       "      <td>23.4</td>\n",
       "      <td>...</td>\n",
       "      <td>10.5</td>\n",
       "      <td>89.0</td>\n",
       "      <td>30.5</td>\n",
       "      <td>83.1</td>\n",
       "      <td>31.8</td>\n",
       "      <td>1</td>\n",
       "      <td>3</td>\n",
       "      <td>Baldwin County</td>\n",
       "      <td>Alabama</td>\n",
       "      <td>2014</td>\n",
       "    </tr>\n",
       "  </tbody>\n",
       "</table>\n",
       "<p>5 rows × 22 columns</p>\n",
       "</div>"
      ],
      "text/plain": [
       "                        NAME          GEO_ID  pop_total_18_24  \\\n",
       "130  Baldwin County, Alabama  0500000US01003          13087.0   \n",
       "385  Baldwin County, Alabama  0500000US01003          13225.0   \n",
       "328  Baldwin County, Alabama  0500000US01003          14842.0   \n",
       "696  Baldwin County, Alabama  0500000US01003          16219.0   \n",
       "217  Baldwin County, Alabama  0500000US01003          14901.0   \n",
       "\n",
       "     pop_total_25_34  pop_total_25_plus  hs_18_24  some_college_asso_18_24  \\\n",
       "130          21568.0           127969.0      34.7                     32.2   \n",
       "385          23402.0           131214.0      38.5                     40.2   \n",
       "328          22639.0           133433.0      31.4                     51.0   \n",
       "696          23066.0           135016.0      32.6                     30.2   \n",
       "217          23464.0           140588.0      33.6                     28.9   \n",
       "\n",
       "     ba_higher_18_24  hs_25_plus  some_college_25_plus  ...  \\\n",
       "130             10.7        30.7                  22.0  ...   \n",
       "385              8.9        29.9                  23.9  ...   \n",
       "328              3.7        28.4                  23.7  ...   \n",
       "696             11.6        29.3                  22.0  ...   \n",
       "217              8.6        25.5                  23.4  ...   \n",
       "\n",
       "     grad_prof_25_plus  hs_higher_25_plus  ba_higher_25_plus  hs_higher_25_34  \\\n",
       "130                7.4               87.7               27.2             80.8   \n",
       "385                9.9               90.4               28.3             94.4   \n",
       "328               10.0               89.2               29.1             80.4   \n",
       "696                9.2               90.6               29.0             89.1   \n",
       "217               10.5               89.0               30.5             83.1   \n",
       "\n",
       "     ba_higher_25_34  state  county          County    State  Year  \n",
       "130             29.8      1       3  Baldwin County  Alabama  2010  \n",
       "385             25.6      1       3  Baldwin County  Alabama  2011  \n",
       "328             19.3      1       3  Baldwin County  Alabama  2012  \n",
       "696             25.9      1       3  Baldwin County  Alabama  2013  \n",
       "217             31.8      1       3  Baldwin County  Alabama  2014  \n",
       "\n",
       "[5 rows x 22 columns]"
      ]
     },
     "execution_count": 95,
     "metadata": {},
     "output_type": "execute_result"
    }
   ],
   "source": [
    "df_edu_attain_1y.head()"
   ]
  },
  {
   "cell_type": "code",
   "execution_count": 96,
   "id": "ab3f0989-9c60-41e5-9595-78af15209b40",
   "metadata": {},
   "outputs": [
    {
     "name": "stdout",
     "output_type": "stream",
     "text": [
      "<class 'pandas.core.frame.DataFrame'>\n",
      "Int64Index: 8297 entries, 130 to 374\n",
      "Data columns (total 22 columns):\n",
      " #   Column                   Non-Null Count  Dtype  \n",
      "---  ------                   --------------  -----  \n",
      " 0   NAME                     8297 non-null   object \n",
      " 1   GEO_ID                   8297 non-null   object \n",
      " 2   pop_total_18_24          8297 non-null   float64\n",
      " 3   pop_total_25_34          8297 non-null   float64\n",
      " 4   pop_total_25_plus        8297 non-null   float64\n",
      " 5   hs_18_24                 8297 non-null   float64\n",
      " 6   some_college_asso_18_24  8297 non-null   float64\n",
      " 7   ba_higher_18_24          8297 non-null   float64\n",
      " 8   hs_25_plus               8297 non-null   float64\n",
      " 9   some_college_25_plus     8297 non-null   float64\n",
      " 10  asso_25_plus             8297 non-null   float64\n",
      " 11  ba_25_plus               8297 non-null   float64\n",
      " 12  grad_prof_25_plus        8297 non-null   float64\n",
      " 13  hs_higher_25_plus        8297 non-null   float64\n",
      " 14  ba_higher_25_plus        8297 non-null   float64\n",
      " 15  hs_higher_25_34          8297 non-null   float64\n",
      " 16  ba_higher_25_34          8297 non-null   float64\n",
      " 17  state                    8297 non-null   int64  \n",
      " 18  county                   8297 non-null   int64  \n",
      " 19  County                   8297 non-null   object \n",
      " 20  State                    8297 non-null   object \n",
      " 21  Year                     8297 non-null   int64  \n",
      "dtypes: float64(15), int64(3), object(4)\n",
      "memory usage: 1.5+ MB\n"
     ]
    }
   ],
   "source": [
    "df_edu_attain_1y.info()"
   ]
  },
  {
   "cell_type": "markdown",
   "id": "c86fabb2-3d89-42cf-93dc-a4b46dcb8caf",
   "metadata": {},
   "source": [
    "##### collect five-year estimates"
   ]
  },
  {
   "cell_type": "code",
   "execution_count": 102,
   "id": "61e91343-7c52-4ae0-884b-ca2c42ac5886",
   "metadata": {},
   "outputs": [],
   "source": [
    "df_edu_attain_5y = CollectAttainData('acs5')"
   ]
  },
  {
   "cell_type": "code",
   "execution_count": 103,
   "id": "19538c6e-f0bf-4a7d-87a2-71eb83b84f30",
   "metadata": {},
   "outputs": [
    {
     "data": {
      "text/html": [
       "<div>\n",
       "<style scoped>\n",
       "    .dataframe tbody tr th:only-of-type {\n",
       "        vertical-align: middle;\n",
       "    }\n",
       "\n",
       "    .dataframe tbody tr th {\n",
       "        vertical-align: top;\n",
       "    }\n",
       "\n",
       "    .dataframe thead th {\n",
       "        text-align: right;\n",
       "    }\n",
       "</style>\n",
       "<table border=\"1\" class=\"dataframe\">\n",
       "  <thead>\n",
       "    <tr style=\"text-align: right;\">\n",
       "      <th></th>\n",
       "      <th>NAME</th>\n",
       "      <th>GEO_ID</th>\n",
       "      <th>pop_total_18_24</th>\n",
       "      <th>pop_total_25_34</th>\n",
       "      <th>pop_total_25_plus</th>\n",
       "      <th>hs_18_24</th>\n",
       "      <th>some_college_asso_18_24</th>\n",
       "      <th>ba_higher_18_24</th>\n",
       "      <th>hs_25_plus</th>\n",
       "      <th>some_college_25_plus</th>\n",
       "      <th>...</th>\n",
       "      <th>grad_prof_25_plus</th>\n",
       "      <th>hs_higher_25_plus</th>\n",
       "      <th>ba_higher_25_plus</th>\n",
       "      <th>hs_higher_25_34</th>\n",
       "      <th>ba_higher_25_34</th>\n",
       "      <th>state</th>\n",
       "      <th>county</th>\n",
       "      <th>County</th>\n",
       "      <th>State</th>\n",
       "      <th>Year</th>\n",
       "    </tr>\n",
       "  </thead>\n",
       "  <tbody>\n",
       "    <tr>\n",
       "      <th>80</th>\n",
       "      <td>Autauga County, Alabama</td>\n",
       "      <td>0500000US01001</td>\n",
       "      <td>4546.0</td>\n",
       "      <td>6370.0</td>\n",
       "      <td>33884.0</td>\n",
       "      <td>33.0</td>\n",
       "      <td>37.2</td>\n",
       "      <td>6.4</td>\n",
       "      <td>35.2</td>\n",
       "      <td>21.9</td>\n",
       "      <td>...</td>\n",
       "      <td>7.1</td>\n",
       "      <td>85.3</td>\n",
       "      <td>21.7</td>\n",
       "      <td>87.5</td>\n",
       "      <td>22.3</td>\n",
       "      <td>1</td>\n",
       "      <td>1</td>\n",
       "      <td>Autauga County</td>\n",
       "      <td>Alabama</td>\n",
       "      <td>2010</td>\n",
       "    </tr>\n",
       "    <tr>\n",
       "      <th>2261</th>\n",
       "      <td>Autauga County, Alabama</td>\n",
       "      <td>0500000US01001</td>\n",
       "      <td>4655.0</td>\n",
       "      <td>6466.0</td>\n",
       "      <td>34581.0</td>\n",
       "      <td>36.7</td>\n",
       "      <td>34.8</td>\n",
       "      <td>5.4</td>\n",
       "      <td>35.0</td>\n",
       "      <td>22.2</td>\n",
       "      <td>...</td>\n",
       "      <td>6.9</td>\n",
       "      <td>86.5</td>\n",
       "      <td>21.6</td>\n",
       "      <td>88.9</td>\n",
       "      <td>22.5</td>\n",
       "      <td>1</td>\n",
       "      <td>1</td>\n",
       "      <td>Autauga County</td>\n",
       "      <td>Alabama</td>\n",
       "      <td>2011</td>\n",
       "    </tr>\n",
       "    <tr>\n",
       "      <th>3211</th>\n",
       "      <td>Autauga County, Alabama</td>\n",
       "      <td>0500000US01001</td>\n",
       "      <td>4809.0</td>\n",
       "      <td>6452.0</td>\n",
       "      <td>35144.0</td>\n",
       "      <td>36.8</td>\n",
       "      <td>38.2</td>\n",
       "      <td>4.0</td>\n",
       "      <td>33.8</td>\n",
       "      <td>22.0</td>\n",
       "      <td>...</td>\n",
       "      <td>7.2</td>\n",
       "      <td>85.1</td>\n",
       "      <td>21.7</td>\n",
       "      <td>84.1</td>\n",
       "      <td>21.9</td>\n",
       "      <td>1</td>\n",
       "      <td>1</td>\n",
       "      <td>Autauga County</td>\n",
       "      <td>Alabama</td>\n",
       "      <td>2012</td>\n",
       "    </tr>\n",
       "    <tr>\n",
       "      <th>2407</th>\n",
       "      <td>Autauga County, Alabama</td>\n",
       "      <td>0500000US01001</td>\n",
       "      <td>4819.0</td>\n",
       "      <td>6540.0</td>\n",
       "      <td>35696.0</td>\n",
       "      <td>37.7</td>\n",
       "      <td>37.9</td>\n",
       "      <td>4.5</td>\n",
       "      <td>34.2</td>\n",
       "      <td>23.1</td>\n",
       "      <td>...</td>\n",
       "      <td>7.2</td>\n",
       "      <td>85.6</td>\n",
       "      <td>20.9</td>\n",
       "      <td>86.6</td>\n",
       "      <td>22.4</td>\n",
       "      <td>1</td>\n",
       "      <td>1</td>\n",
       "      <td>Autauga County</td>\n",
       "      <td>Alabama</td>\n",
       "      <td>2013</td>\n",
       "    </tr>\n",
       "    <tr>\n",
       "      <th>2073</th>\n",
       "      <td>Autauga County, Alabama</td>\n",
       "      <td>0500000US01001</td>\n",
       "      <td>4689.0</td>\n",
       "      <td>6696.0</td>\n",
       "      <td>36233.0</td>\n",
       "      <td>37.7</td>\n",
       "      <td>36.8</td>\n",
       "      <td>4.4</td>\n",
       "      <td>33.5</td>\n",
       "      <td>22.9</td>\n",
       "      <td>...</td>\n",
       "      <td>8.3</td>\n",
       "      <td>86.2</td>\n",
       "      <td>21.9</td>\n",
       "      <td>89.0</td>\n",
       "      <td>24.3</td>\n",
       "      <td>1</td>\n",
       "      <td>1</td>\n",
       "      <td>Autauga County</td>\n",
       "      <td>Alabama</td>\n",
       "      <td>2014</td>\n",
       "    </tr>\n",
       "  </tbody>\n",
       "</table>\n",
       "<p>5 rows × 22 columns</p>\n",
       "</div>"
      ],
      "text/plain": [
       "                         NAME          GEO_ID  pop_total_18_24  \\\n",
       "80    Autauga County, Alabama  0500000US01001           4546.0   \n",
       "2261  Autauga County, Alabama  0500000US01001           4655.0   \n",
       "3211  Autauga County, Alabama  0500000US01001           4809.0   \n",
       "2407  Autauga County, Alabama  0500000US01001           4819.0   \n",
       "2073  Autauga County, Alabama  0500000US01001           4689.0   \n",
       "\n",
       "      pop_total_25_34  pop_total_25_plus  hs_18_24  some_college_asso_18_24  \\\n",
       "80             6370.0            33884.0      33.0                     37.2   \n",
       "2261           6466.0            34581.0      36.7                     34.8   \n",
       "3211           6452.0            35144.0      36.8                     38.2   \n",
       "2407           6540.0            35696.0      37.7                     37.9   \n",
       "2073           6696.0            36233.0      37.7                     36.8   \n",
       "\n",
       "      ba_higher_18_24  hs_25_plus  some_college_25_plus  ...  \\\n",
       "80                6.4        35.2                  21.9  ...   \n",
       "2261              5.4        35.0                  22.2  ...   \n",
       "3211              4.0        33.8                  22.0  ...   \n",
       "2407              4.5        34.2                  23.1  ...   \n",
       "2073              4.4        33.5                  22.9  ...   \n",
       "\n",
       "      grad_prof_25_plus  hs_higher_25_plus  ba_higher_25_plus  \\\n",
       "80                  7.1               85.3               21.7   \n",
       "2261                6.9               86.5               21.6   \n",
       "3211                7.2               85.1               21.7   \n",
       "2407                7.2               85.6               20.9   \n",
       "2073                8.3               86.2               21.9   \n",
       "\n",
       "      hs_higher_25_34  ba_higher_25_34  state  county          County  \\\n",
       "80               87.5             22.3      1       1  Autauga County   \n",
       "2261             88.9             22.5      1       1  Autauga County   \n",
       "3211             84.1             21.9      1       1  Autauga County   \n",
       "2407             86.6             22.4      1       1  Autauga County   \n",
       "2073             89.0             24.3      1       1  Autauga County   \n",
       "\n",
       "        State  Year  \n",
       "80    Alabama  2010  \n",
       "2261  Alabama  2011  \n",
       "3211  Alabama  2012  \n",
       "2407  Alabama  2013  \n",
       "2073  Alabama  2014  \n",
       "\n",
       "[5 rows x 22 columns]"
      ]
     },
     "execution_count": 103,
     "metadata": {},
     "output_type": "execute_result"
    }
   ],
   "source": [
    "df_edu_attain_5y.head()"
   ]
  },
  {
   "cell_type": "code",
   "execution_count": 119,
   "id": "67033eae-a83e-4c60-be01-aa90b60d2cd3",
   "metadata": {},
   "outputs": [
    {
     "name": "stdout",
     "output_type": "stream",
     "text": [
      "<class 'pandas.core.frame.DataFrame'>\n",
      "Int64Index: 32236 entries, 80 to 37\n",
      "Data columns (total 22 columns):\n",
      " #   Column                   Non-Null Count  Dtype  \n",
      "---  ------                   --------------  -----  \n",
      " 0   NAME                     32236 non-null  object \n",
      " 1   GEO_ID                   32236 non-null  object \n",
      " 2   pop_total_18_24          32204 non-null  float64\n",
      " 3   pop_total_25_34          32204 non-null  float64\n",
      " 4   pop_total_25_plus        32204 non-null  float64\n",
      " 5   hs_18_24                 32204 non-null  float64\n",
      " 6   some_college_asso_18_24  32204 non-null  float64\n",
      " 7   ba_higher_18_24          32204 non-null  float64\n",
      " 8   hs_25_plus               32204 non-null  float64\n",
      " 9   some_college_25_plus     32204 non-null  float64\n",
      " 10  asso_25_plus             32204 non-null  float64\n",
      " 11  ba_25_plus               32204 non-null  float64\n",
      " 12  grad_prof_25_plus        32204 non-null  float64\n",
      " 13  hs_higher_25_plus        32204 non-null  float64\n",
      " 14  ba_higher_25_plus        32204 non-null  float64\n",
      " 15  hs_higher_25_34          32204 non-null  float64\n",
      " 16  ba_higher_25_34          32204 non-null  float64\n",
      " 17  state                    32236 non-null  int64  \n",
      " 18  county                   32236 non-null  int64  \n",
      " 19  County                   32236 non-null  object \n",
      " 20  State                    32236 non-null  object \n",
      " 21  Year                     32236 non-null  int64  \n",
      "dtypes: float64(15), int64(3), object(4)\n",
      "memory usage: 5.7+ MB\n"
     ]
    }
   ],
   "source": [
    "df_edu_attain_5y.info()"
   ]
  },
  {
   "cell_type": "markdown",
   "id": "34ec5be6-3b30-4bf4-ba6d-9b5d634cbec7",
   "metadata": {
    "tags": []
   },
   "source": [
    "### collect one-year School Enrollment (S1401)"
   ]
  },
  {
   "cell_type": "markdown",
   "id": "cdbb24fd-c5fb-4f7a-a9d3-4233789c01ee",
   "metadata": {},
   "source": [
    "#### create variable dictionary"
   ]
  },
  {
   "cell_type": "code",
   "execution_count": 33,
   "id": "ea552e54-a16f-4e13-a6da-4358cbc37e74",
   "metadata": {},
   "outputs": [],
   "source": [
    "#### dictionary for year 2010-2014\n",
    "edu_enroll_dict1 = {'S1401_C01_001E':'pop_total_3_plus',\n",
    "                    'S1401_C01_008E':'pop_college_3_plus',\n",
    "                    'S1401_C01_009E':'pop_grad_prof_3_plus',\n",
    "                    \n",
    "                    'S1401_C01_025E':'college_grad_18_24'} "
   ]
  },
  {
   "cell_type": "code",
   "execution_count": null,
   "id": "c0118309-eb7e-46a1-bae7-6b911432c428",
   "metadata": {},
   "outputs": [],
   "source": [
    "#dictionary for year 2015-2019\n",
    "edu_enroll_dict2 = {'S1401_C01_001E':'pop_total_3_plus',\n",
    "                    'S1401_C02_008E':'college_3_plus',\n",
    "                    'S1401_C02_009E':'grad_prof_3_plus',\n",
    "                    \n",
    "                    'S1401_C02_030E':'college_grad_18_24'} "
   ]
  },
  {
   "cell_type": "markdown",
   "id": "dc0f56ee-4209-42e3-96c1-af56aa9558b6",
   "metadata": {},
   "source": [
    "#### define the collection function"
   ]
  },
  {
   "cell_type": "code",
   "execution_count": 110,
   "id": "193862a2-3adb-4fd2-a402-7c02e1197549",
   "metadata": {},
   "outputs": [],
   "source": [
    "#define the collection function\n",
    "def CollectEnrollData(est):\n",
    "    df_edu_enroll1 = pd.DataFrame()\n",
    "    df_edu_enroll2 = pd.DataFrame()\n",
    "    \n",
    "    for i in range(2010,2015):\n",
    "        df_temp = CensusEdu(str(i), edu_enroll_dict1, est)\n",
    "        df_edu_enroll1 = pd.concat([df_edu_enroll1, df_temp])\n",
    "        \n",
    "    for i in range(2015,2020):\n",
    "        df_temp = CensusEdu(str(i), edu_enroll_dict2, est)\n",
    "        df_edu_enroll2 = pd.concat([df_edu_enroll2, df_temp])\n",
    "    \n",
    "    df_edu_enroll1[df_edu_enroll1.columns[2:5]] = df_edu_enroll1[df_edu_enroll1.columns[2:5]].astype('float')\n",
    "    \n",
    "    df_edu_enroll1['college_3_plus'] = np.round(df_edu_enroll1['pop_college_3_plus']/df_edu_enroll1['pop_total_3_plus']*100,1)\n",
    "    df_edu_enroll1['grad_prof_3_plus'] = np.round(df_edu_enroll1['pop_grad_prof_3_plus']/df_edu_enroll1['pop_total_3_plus']*100,1)\n",
    "    df_edu_enroll1.drop(['pop_college_3_plus','pop_grad_prof_3_plus'],axis = 1, inplace = True)\n",
    "    \n",
    "    df_edu_enroll = pd.concat([df_edu_enroll1,df_edu_enroll2],axis = 0).sort_values(by = ['GEO_ID','Year'])\n",
    "    \n",
    "    df_edu_enroll[df_edu_enroll.columns[2:4]] = df_edu_enroll[df_edu_enroll.columns[2:4]].astype('float')\n",
    "    df_edu_enroll[df_edu_enroll.columns[-2:]] = df_edu_enroll[df_edu_enroll.columns[-2:]].astype('float')\n",
    "    \n",
    "    df_edu_enroll['Year'] = df_edu_enroll['Year'].astype('int')\n",
    "    df_edu_enroll['state'] = df_edu_enroll['state'].astype('int')\n",
    "    df_edu_enroll['county'] = df_edu_enroll['county'].astype('int')\n",
    "    \n",
    "    return df_edu_enroll"
   ]
  },
  {
   "cell_type": "markdown",
   "id": "32603b84-2bde-4bad-9fa4-d922856977f1",
   "metadata": {},
   "source": [
    "##### collect one-year estimate"
   ]
  },
  {
   "cell_type": "code",
   "execution_count": 111,
   "id": "bd88eb80-96b9-454b-9146-45dc684daca5",
   "metadata": {},
   "outputs": [],
   "source": [
    "#collect one-year estimate\n",
    "df_edu_enroll_1y = CollectEnrollData('acs1')"
   ]
  },
  {
   "cell_type": "code",
   "execution_count": 112,
   "id": "8acdebed-2db1-4913-9ec1-54df729ee3f6",
   "metadata": {},
   "outputs": [
    {
     "data": {
      "text/html": [
       "<div>\n",
       "<style scoped>\n",
       "    .dataframe tbody tr th:only-of-type {\n",
       "        vertical-align: middle;\n",
       "    }\n",
       "\n",
       "    .dataframe tbody tr th {\n",
       "        vertical-align: top;\n",
       "    }\n",
       "\n",
       "    .dataframe thead th {\n",
       "        text-align: right;\n",
       "    }\n",
       "</style>\n",
       "<table border=\"1\" class=\"dataframe\">\n",
       "  <thead>\n",
       "    <tr style=\"text-align: right;\">\n",
       "      <th></th>\n",
       "      <th>NAME</th>\n",
       "      <th>GEO_ID</th>\n",
       "      <th>pop_total_3_plus</th>\n",
       "      <th>college_grad_18_24</th>\n",
       "      <th>state</th>\n",
       "      <th>county</th>\n",
       "      <th>County</th>\n",
       "      <th>State</th>\n",
       "      <th>Year</th>\n",
       "      <th>college_3_plus</th>\n",
       "      <th>grad_prof_3_plus</th>\n",
       "    </tr>\n",
       "  </thead>\n",
       "  <tbody>\n",
       "    <tr>\n",
       "      <th>130</th>\n",
       "      <td>Baldwin County, Alabama</td>\n",
       "      <td>0500000US01003</td>\n",
       "      <td>42673.0</td>\n",
       "      <td>32.4</td>\n",
       "      <td>1</td>\n",
       "      <td>3</td>\n",
       "      <td>Baldwin County</td>\n",
       "      <td>Alabama</td>\n",
       "      <td>2010</td>\n",
       "      <td>17.2</td>\n",
       "      <td>4.3</td>\n",
       "    </tr>\n",
       "    <tr>\n",
       "      <th>385</th>\n",
       "      <td>Baldwin County, Alabama</td>\n",
       "      <td>0500000US01003</td>\n",
       "      <td>43055.0</td>\n",
       "      <td>28.2</td>\n",
       "      <td>1</td>\n",
       "      <td>3</td>\n",
       "      <td>Baldwin County</td>\n",
       "      <td>Alabama</td>\n",
       "      <td>2011</td>\n",
       "      <td>17.7</td>\n",
       "      <td>1.3</td>\n",
       "    </tr>\n",
       "    <tr>\n",
       "      <th>328</th>\n",
       "      <td>Baldwin County, Alabama</td>\n",
       "      <td>0500000US01003</td>\n",
       "      <td>44159.0</td>\n",
       "      <td>41.1</td>\n",
       "      <td>1</td>\n",
       "      <td>3</td>\n",
       "      <td>Baldwin County</td>\n",
       "      <td>Alabama</td>\n",
       "      <td>2012</td>\n",
       "      <td>22.2</td>\n",
       "      <td>2.0</td>\n",
       "    </tr>\n",
       "    <tr>\n",
       "      <th>696</th>\n",
       "      <td>Baldwin County, Alabama</td>\n",
       "      <td>0500000US01003</td>\n",
       "      <td>42227.0</td>\n",
       "      <td>21.5</td>\n",
       "      <td>1</td>\n",
       "      <td>3</td>\n",
       "      <td>Baldwin County</td>\n",
       "      <td>Alabama</td>\n",
       "      <td>2013</td>\n",
       "      <td>12.9</td>\n",
       "      <td>2.6</td>\n",
       "    </tr>\n",
       "    <tr>\n",
       "      <th>217</th>\n",
       "      <td>Baldwin County, Alabama</td>\n",
       "      <td>0500000US01003</td>\n",
       "      <td>45836.0</td>\n",
       "      <td>27.1</td>\n",
       "      <td>1</td>\n",
       "      <td>3</td>\n",
       "      <td>Baldwin County</td>\n",
       "      <td>Alabama</td>\n",
       "      <td>2014</td>\n",
       "      <td>15.0</td>\n",
       "      <td>6.6</td>\n",
       "    </tr>\n",
       "  </tbody>\n",
       "</table>\n",
       "</div>"
      ],
      "text/plain": [
       "                        NAME          GEO_ID  pop_total_3_plus  \\\n",
       "130  Baldwin County, Alabama  0500000US01003           42673.0   \n",
       "385  Baldwin County, Alabama  0500000US01003           43055.0   \n",
       "328  Baldwin County, Alabama  0500000US01003           44159.0   \n",
       "696  Baldwin County, Alabama  0500000US01003           42227.0   \n",
       "217  Baldwin County, Alabama  0500000US01003           45836.0   \n",
       "\n",
       "     college_grad_18_24  state  county          County    State  Year  \\\n",
       "130                32.4      1       3  Baldwin County  Alabama  2010   \n",
       "385                28.2      1       3  Baldwin County  Alabama  2011   \n",
       "328                41.1      1       3  Baldwin County  Alabama  2012   \n",
       "696                21.5      1       3  Baldwin County  Alabama  2013   \n",
       "217                27.1      1       3  Baldwin County  Alabama  2014   \n",
       "\n",
       "     college_3_plus  grad_prof_3_plus  \n",
       "130            17.2               4.3  \n",
       "385            17.7               1.3  \n",
       "328            22.2               2.0  \n",
       "696            12.9               2.6  \n",
       "217            15.0               6.6  "
      ]
     },
     "execution_count": 112,
     "metadata": {},
     "output_type": "execute_result"
    }
   ],
   "source": [
    "df_edu_enroll_1y.head()"
   ]
  },
  {
   "cell_type": "code",
   "execution_count": 113,
   "id": "848704a4-668b-4966-b183-0370b367ea61",
   "metadata": {},
   "outputs": [
    {
     "name": "stdout",
     "output_type": "stream",
     "text": [
      "<class 'pandas.core.frame.DataFrame'>\n",
      "Int64Index: 8297 entries, 130 to 374\n",
      "Data columns (total 11 columns):\n",
      " #   Column              Non-Null Count  Dtype  \n",
      "---  ------              --------------  -----  \n",
      " 0   NAME                8297 non-null   object \n",
      " 1   GEO_ID              8297 non-null   object \n",
      " 2   pop_total_3_plus    8297 non-null   float64\n",
      " 3   college_grad_18_24  7948 non-null   float64\n",
      " 4   state               8297 non-null   int64  \n",
      " 5   county              8297 non-null   int64  \n",
      " 6   County              8297 non-null   object \n",
      " 7   State               8297 non-null   object \n",
      " 8   Year                8297 non-null   int64  \n",
      " 9   college_3_plus      8297 non-null   float64\n",
      " 10  grad_prof_3_plus    8297 non-null   float64\n",
      "dtypes: float64(4), int64(3), object(4)\n",
      "memory usage: 777.8+ KB\n"
     ]
    }
   ],
   "source": [
    "df_edu_enroll_1y.info()"
   ]
  },
  {
   "cell_type": "markdown",
   "id": "d67778fb-3411-40db-9559-80d5aa8b2572",
   "metadata": {},
   "source": [
    "##### collect five-year estimate"
   ]
  },
  {
   "cell_type": "code",
   "execution_count": 115,
   "id": "dbc20a24-f01b-411a-840c-d47d7d1c6ad4",
   "metadata": {},
   "outputs": [],
   "source": [
    "#collect five-year estimate\n",
    "df_edu_enroll_5y = CollectEnrollData('acs5')"
   ]
  },
  {
   "cell_type": "code",
   "execution_count": 116,
   "id": "1ca87c43-838a-4da3-a468-6a69c31e77b7",
   "metadata": {},
   "outputs": [
    {
     "data": {
      "text/html": [
       "<div>\n",
       "<style scoped>\n",
       "    .dataframe tbody tr th:only-of-type {\n",
       "        vertical-align: middle;\n",
       "    }\n",
       "\n",
       "    .dataframe tbody tr th {\n",
       "        vertical-align: top;\n",
       "    }\n",
       "\n",
       "    .dataframe thead th {\n",
       "        text-align: right;\n",
       "    }\n",
       "</style>\n",
       "<table border=\"1\" class=\"dataframe\">\n",
       "  <thead>\n",
       "    <tr style=\"text-align: right;\">\n",
       "      <th></th>\n",
       "      <th>NAME</th>\n",
       "      <th>GEO_ID</th>\n",
       "      <th>pop_total_3_plus</th>\n",
       "      <th>college_grad_18_24</th>\n",
       "      <th>state</th>\n",
       "      <th>county</th>\n",
       "      <th>County</th>\n",
       "      <th>State</th>\n",
       "      <th>Year</th>\n",
       "      <th>college_3_plus</th>\n",
       "      <th>grad_prof_3_plus</th>\n",
       "    </tr>\n",
       "  </thead>\n",
       "  <tbody>\n",
       "    <tr>\n",
       "      <th>80</th>\n",
       "      <td>Autauga County, Alabama</td>\n",
       "      <td>0500000US01001</td>\n",
       "      <td>15215.0</td>\n",
       "      <td>34.4</td>\n",
       "      <td>1</td>\n",
       "      <td>1</td>\n",
       "      <td>Autauga County</td>\n",
       "      <td>Alabama</td>\n",
       "      <td>2010</td>\n",
       "      <td>15.8</td>\n",
       "      <td>4.4</td>\n",
       "    </tr>\n",
       "    <tr>\n",
       "      <th>2261</th>\n",
       "      <td>Autauga County, Alabama</td>\n",
       "      <td>0500000US01001</td>\n",
       "      <td>15268.0</td>\n",
       "      <td>31.5</td>\n",
       "      <td>1</td>\n",
       "      <td>1</td>\n",
       "      <td>Autauga County</td>\n",
       "      <td>Alabama</td>\n",
       "      <td>2011</td>\n",
       "      <td>16.2</td>\n",
       "      <td>4.0</td>\n",
       "    </tr>\n",
       "    <tr>\n",
       "      <th>3211</th>\n",
       "      <td>Autauga County, Alabama</td>\n",
       "      <td>0500000US01001</td>\n",
       "      <td>15669.0</td>\n",
       "      <td>32.7</td>\n",
       "      <td>1</td>\n",
       "      <td>1</td>\n",
       "      <td>Autauga County</td>\n",
       "      <td>Alabama</td>\n",
       "      <td>2012</td>\n",
       "      <td>17.1</td>\n",
       "      <td>4.1</td>\n",
       "    </tr>\n",
       "    <tr>\n",
       "      <th>2407</th>\n",
       "      <td>Autauga County, Alabama</td>\n",
       "      <td>0500000US01001</td>\n",
       "      <td>15314.0</td>\n",
       "      <td>29.6</td>\n",
       "      <td>1</td>\n",
       "      <td>1</td>\n",
       "      <td>Autauga County</td>\n",
       "      <td>Alabama</td>\n",
       "      <td>2013</td>\n",
       "      <td>17.4</td>\n",
       "      <td>3.7</td>\n",
       "    </tr>\n",
       "    <tr>\n",
       "      <th>2073</th>\n",
       "      <td>Autauga County, Alabama</td>\n",
       "      <td>0500000US01001</td>\n",
       "      <td>14765.0</td>\n",
       "      <td>24.3</td>\n",
       "      <td>1</td>\n",
       "      <td>1</td>\n",
       "      <td>Autauga County</td>\n",
       "      <td>Alabama</td>\n",
       "      <td>2014</td>\n",
       "      <td>16.1</td>\n",
       "      <td>3.8</td>\n",
       "    </tr>\n",
       "  </tbody>\n",
       "</table>\n",
       "</div>"
      ],
      "text/plain": [
       "                         NAME          GEO_ID  pop_total_3_plus  \\\n",
       "80    Autauga County, Alabama  0500000US01001           15215.0   \n",
       "2261  Autauga County, Alabama  0500000US01001           15268.0   \n",
       "3211  Autauga County, Alabama  0500000US01001           15669.0   \n",
       "2407  Autauga County, Alabama  0500000US01001           15314.0   \n",
       "2073  Autauga County, Alabama  0500000US01001           14765.0   \n",
       "\n",
       "      college_grad_18_24  state  county          County    State  Year  \\\n",
       "80                  34.4      1       1  Autauga County  Alabama  2010   \n",
       "2261                31.5      1       1  Autauga County  Alabama  2011   \n",
       "3211                32.7      1       1  Autauga County  Alabama  2012   \n",
       "2407                29.6      1       1  Autauga County  Alabama  2013   \n",
       "2073                24.3      1       1  Autauga County  Alabama  2014   \n",
       "\n",
       "      college_3_plus  grad_prof_3_plus  \n",
       "80              15.8               4.4  \n",
       "2261            16.2               4.0  \n",
       "3211            17.1               4.1  \n",
       "2407            17.4               3.7  \n",
       "2073            16.1               3.8  "
      ]
     },
     "execution_count": 116,
     "metadata": {},
     "output_type": "execute_result"
    }
   ],
   "source": [
    "df_edu_enroll_5y.head()"
   ]
  },
  {
   "cell_type": "code",
   "execution_count": 118,
   "id": "e6ba5528-bbca-4a11-896a-c1e8eadbb030",
   "metadata": {},
   "outputs": [
    {
     "name": "stdout",
     "output_type": "stream",
     "text": [
      "<class 'pandas.core.frame.DataFrame'>\n",
      "Int64Index: 32236 entries, 80 to 37\n",
      "Data columns (total 11 columns):\n",
      " #   Column              Non-Null Count  Dtype  \n",
      "---  ------              --------------  -----  \n",
      " 0   NAME                32236 non-null  object \n",
      " 1   GEO_ID              32236 non-null  object \n",
      " 2   pop_total_3_plus    32204 non-null  float64\n",
      " 3   college_grad_18_24  32204 non-null  float64\n",
      " 4   state               32236 non-null  int64  \n",
      " 5   county              32236 non-null  int64  \n",
      " 6   County              32236 non-null  object \n",
      " 7   State               32236 non-null  object \n",
      " 8   Year                32236 non-null  int64  \n",
      " 9   college_3_plus      32202 non-null  float64\n",
      " 10  grad_prof_3_plus    32202 non-null  float64\n",
      "dtypes: float64(4), int64(3), object(4)\n",
      "memory usage: 3.0+ MB\n"
     ]
    }
   ],
   "source": [
    "df_edu_enroll_5y.info()"
   ]
  },
  {
   "cell_type": "markdown",
   "id": "7478f699-39b2-4017-973a-de1031eab307",
   "metadata": {
    "tags": []
   },
   "source": [
    "## create the master datasets"
   ]
  },
  {
   "cell_type": "markdown",
   "id": "8eee0a7b-76cb-443c-8eb4-cc1294971b51",
   "metadata": {
    "tags": []
   },
   "source": [
    "### merge datasets"
   ]
  },
  {
   "cell_type": "code",
   "execution_count": 54,
   "id": "66f776ea-ea5b-4a5b-b131-9252e821dd2c",
   "metadata": {},
   "outputs": [
    {
     "data": {
      "text/html": [
       "<div>\n",
       "<style scoped>\n",
       "    .dataframe tbody tr th:only-of-type {\n",
       "        vertical-align: middle;\n",
       "    }\n",
       "\n",
       "    .dataframe tbody tr th {\n",
       "        vertical-align: top;\n",
       "    }\n",
       "\n",
       "    .dataframe thead th {\n",
       "        text-align: right;\n",
       "    }\n",
       "</style>\n",
       "<table border=\"1\" class=\"dataframe\">\n",
       "  <thead>\n",
       "    <tr style=\"text-align: right;\">\n",
       "      <th></th>\n",
       "      <th>LAUS</th>\n",
       "      <th>state</th>\n",
       "      <th>county</th>\n",
       "      <th>County Name/State Abbreviation</th>\n",
       "      <th>Year</th>\n",
       "      <th>force</th>\n",
       "      <th>employed</th>\n",
       "      <th>unemployed</th>\n",
       "      <th>unemployment</th>\n",
       "    </tr>\n",
       "  </thead>\n",
       "  <tbody>\n",
       "    <tr>\n",
       "      <th>0</th>\n",
       "      <td>CN0100100000000</td>\n",
       "      <td>1</td>\n",
       "      <td>1</td>\n",
       "      <td>Autauga County, AL</td>\n",
       "      <td>2010</td>\n",
       "      <td>25749</td>\n",
       "      <td>23481</td>\n",
       "      <td>2268</td>\n",
       "      <td>8.8</td>\n",
       "    </tr>\n",
       "    <tr>\n",
       "      <th>1</th>\n",
       "      <td>CN0100300000000</td>\n",
       "      <td>1</td>\n",
       "      <td>3</td>\n",
       "      <td>Baldwin County, AL</td>\n",
       "      <td>2010</td>\n",
       "      <td>83551</td>\n",
       "      <td>75283</td>\n",
       "      <td>8268</td>\n",
       "      <td>9.9</td>\n",
       "    </tr>\n",
       "    <tr>\n",
       "      <th>2</th>\n",
       "      <td>CN0100500000000</td>\n",
       "      <td>1</td>\n",
       "      <td>5</td>\n",
       "      <td>Barbour County, AL</td>\n",
       "      <td>2010</td>\n",
       "      <td>10219</td>\n",
       "      <td>8978</td>\n",
       "      <td>1241</td>\n",
       "      <td>12.1</td>\n",
       "    </tr>\n",
       "    <tr>\n",
       "      <th>3</th>\n",
       "      <td>CN0100700000000</td>\n",
       "      <td>1</td>\n",
       "      <td>7</td>\n",
       "      <td>Bibb County, AL</td>\n",
       "      <td>2010</td>\n",
       "      <td>8936</td>\n",
       "      <td>7931</td>\n",
       "      <td>1005</td>\n",
       "      <td>11.2</td>\n",
       "    </tr>\n",
       "    <tr>\n",
       "      <th>4</th>\n",
       "      <td>CN0100900000000</td>\n",
       "      <td>1</td>\n",
       "      <td>9</td>\n",
       "      <td>Blount County, AL</td>\n",
       "      <td>2010</td>\n",
       "      <td>24928</td>\n",
       "      <td>22509</td>\n",
       "      <td>2419</td>\n",
       "      <td>9.7</td>\n",
       "    </tr>\n",
       "  </tbody>\n",
       "</table>\n",
       "</div>"
      ],
      "text/plain": [
       "              LAUS  state  county County Name/State Abbreviation  Year  force  \\\n",
       "0  CN0100100000000      1       1             Autauga County, AL  2010  25749   \n",
       "1  CN0100300000000      1       3             Baldwin County, AL  2010  83551   \n",
       "2  CN0100500000000      1       5             Barbour County, AL  2010  10219   \n",
       "3  CN0100700000000      1       7                Bibb County, AL  2010   8936   \n",
       "4  CN0100900000000      1       9              Blount County, AL  2010  24928   \n",
       "\n",
       "   employed  unemployed  unemployment  \n",
       "0     23481        2268           8.8  \n",
       "1     75283        8268           9.9  \n",
       "2      8978        1241          12.1  \n",
       "3      7931        1005          11.2  \n",
       "4     22509        2419           9.7  "
      ]
     },
     "execution_count": 54,
     "metadata": {},
     "output_type": "execute_result"
    }
   ],
   "source": [
    "#import unemployment data\n",
    "df_un_master = pd.read_csv('df_un_master.csv')\n",
    "df_un_master.head()"
   ]
  },
  {
   "cell_type": "code",
   "execution_count": 169,
   "id": "9f919ee4-e7c7-40ba-a8ac-ae5d787200df",
   "metadata": {},
   "outputs": [],
   "source": [
    "def CreateMaster(df_edu):\n",
    "    df_master = df_edu.merge(df_gini,on = ['GEO_ID','Year','County','State'],how = 'inner').merge(df_un_master)\n",
    "    \n",
    "    df_master = df_master.replace(-666666666.0, np.nan)\n",
    "    df_master = df_master.replace(-999999999.0, np.nan)\n",
    "    \n",
    "    return df_master"
   ]
  },
  {
   "cell_type": "code",
   "execution_count": 170,
   "id": "6b2a979f-9591-4081-a9d0-935151ff0aa3",
   "metadata": {},
   "outputs": [],
   "source": [
    "df_attain_master_1y = CreateMaster(df_edu_attain_1y)"
   ]
  },
  {
   "cell_type": "code",
   "execution_count": 171,
   "id": "dc8daf4e-d9bb-4fb7-915f-17a4279ba2f7",
   "metadata": {},
   "outputs": [],
   "source": [
    "df_attain_master_5y = CreateMaster(df_edu_attain_5y)"
   ]
  },
  {
   "cell_type": "code",
   "execution_count": 172,
   "id": "e9a4a6e8-f165-44e1-9600-185a353f9458",
   "metadata": {},
   "outputs": [],
   "source": [
    "df_enroll_master_1y = CreateMaster(df_edu_enroll_1y)"
   ]
  },
  {
   "cell_type": "code",
   "execution_count": 173,
   "id": "ddd3f1b4-6f0b-4480-83d3-4f30d3c858cc",
   "metadata": {},
   "outputs": [],
   "source": [
    "df_enroll_master_5y = CreateMaster(df_edu_enroll_5y)"
   ]
  },
  {
   "cell_type": "code",
   "execution_count": 339,
   "id": "64bd2ccc-3aec-4c28-aac2-30b97b087483",
   "metadata": {},
   "outputs": [],
   "source": [
    "df_list = [df_attain_master_1y, df_attain_master_5y,df_enroll_master_1y, df_enroll_master_5y]\n",
    "df_des_list = ['one-year estimated education attainment data','five-year estimated education attainment data',\n",
    "               'one-year estimated school enrollmentt data','five-year estimated school enrollment data']"
   ]
  },
  {
   "cell_type": "markdown",
   "id": "7478a462-4140-442a-a185-e62c14123b65",
   "metadata": {
    "tags": []
   },
   "source": [
    "### calculate decimal DVs ```CalDecimal```"
   ]
  },
  {
   "cell_type": "code",
   "execution_count": null,
   "id": "11187dbc-1e7a-4120-9b7a-9d87559997b9",
   "metadata": {},
   "outputs": [],
   "source": [
    "def CalDecimal(df, dv):\n",
    "    dv_decimal= dv + 'D'\n",
    "    df[dv_decimal] = df[dv].apply(lambda x: x/100) "
   ]
  },
  {
   "cell_type": "code",
   "execution_count": 202,
   "id": "37b0d6a9-7b85-4cb1-bf8f-50cfb904f3a7",
   "metadata": {},
   "outputs": [],
   "source": [
    "for df in df_list[0:2]:\n",
    "    for dv in list(df.columns[5:17]):\n",
    "        CalDecimal(df, dv)"
   ]
  },
  {
   "cell_type": "code",
   "execution_count": 160,
   "id": "06d5d0f0-e843-47d2-a486-a7b09a7f4021",
   "metadata": {},
   "outputs": [
    {
     "data": {
      "text/plain": [
       "Index(['hs_18_24', 'some_college_asso_18_24', 'ba_higher_18_24', 'hs_25_plus',\n",
       "       'some_college_25_plus', 'asso_25_plus', 'ba_25_plus',\n",
       "       'grad_prof_25_plus', 'hs_higher_25_plus', 'ba_higher_25_plus',\n",
       "       'hs_higher_25_34', 'ba_higher_25_34'],\n",
       "      dtype='object')"
      ]
     },
     "execution_count": 160,
     "metadata": {},
     "output_type": "execute_result"
    }
   ],
   "source": [
    "df_list[0].columns[5:17]"
   ]
  },
  {
   "cell_type": "code",
   "execution_count": 203,
   "id": "88a8ddad-534c-4d98-809b-5a31b0cfe1ad",
   "metadata": {},
   "outputs": [],
   "source": [
    "for df in df_list[2:4]:\n",
    "    for dv in ['college_grad_18_24','college_3_plus','grad_prof_3_plus']:\n",
    "        CalDecimal(df, dv)"
   ]
  },
  {
   "cell_type": "markdown",
   "id": "450639a7-193d-4608-8ac5-ab1736eadec8",
   "metadata": {},
   "source": [
    "### calculate year difference ```CalDvDiff```"
   ]
  },
  {
   "cell_type": "code",
   "execution_count": 381,
   "id": "6ebd41eb-ed1b-4f49-a2ea-c40dbb80e3bc",
   "metadata": {},
   "outputs": [],
   "source": [
    "def CalDvDiff(df, dv):\n",
    "    df_diff = pd.DataFrame()\n",
    "    df_temp = pd.DataFrame()\n",
    "    \n",
    "    var_diff = dv + '_diff'\n",
    "    \n",
    "    for county in df['GEO_ID'].unique():\n",
    "        for year in np.arange(2011,2020):\n",
    "            try:\n",
    "                current_year  =  df.loc[(df['Year'] == year) & (df['GEO_ID'] == county), dv].values[0]\n",
    "                previous_year =  df.loc[(df['Year'] == year-1) & (df['GEO_ID'] == county), dv].values[0]\n",
    "                if previous_year != 0:\n",
    "                    diff_county_year = (current_year - previous_year)/previous_year\n",
    "                else:\n",
    "                    diff_county_year = np.nan\n",
    "                    \n",
    "                \n",
    "                df_temp = pd.DataFrame({'Year': [year], 'GEO_ID': [county], var_diff: [diff_county_year]})\n",
    "                df_diff = pd.concat([df_diff, df_temp], ignore_index = True)\n",
    "            except IndexError:\n",
    "                pass\n",
    "            \n",
    "            \n",
    "    return df_diff"
   ]
  },
  {
   "cell_type": "code",
   "execution_count": 362,
   "id": "7b3ba998-faf5-40f5-b206-300b0d711662",
   "metadata": {},
   "outputs": [],
   "source": [
    "attain_dv_list = list(df_attain_master_1y.columns[5:17]) + list(df_attain_master_1y.columns[31:43])"
   ]
  },
  {
   "cell_type": "code",
   "execution_count": 394,
   "id": "7ed82f69-a563-4812-8c23-d748d8ec1587",
   "metadata": {},
   "outputs": [
    {
     "data": {
      "text/html": [
       "<div>\n",
       "<style scoped>\n",
       "    .dataframe tbody tr th:only-of-type {\n",
       "        vertical-align: middle;\n",
       "    }\n",
       "\n",
       "    .dataframe tbody tr th {\n",
       "        vertical-align: top;\n",
       "    }\n",
       "\n",
       "    .dataframe thead th {\n",
       "        text-align: right;\n",
       "    }\n",
       "</style>\n",
       "<table border=\"1\" class=\"dataframe\">\n",
       "  <thead>\n",
       "    <tr style=\"text-align: right;\">\n",
       "      <th></th>\n",
       "      <th>ba_higher_18_24</th>\n",
       "      <th>ba_higher_18_24_diff</th>\n",
       "    </tr>\n",
       "  </thead>\n",
       "  <tbody>\n",
       "    <tr>\n",
       "      <th>count</th>\n",
       "      <td>8186.000000</td>\n",
       "      <td>7354.000000</td>\n",
       "    </tr>\n",
       "    <tr>\n",
       "      <th>mean</th>\n",
       "      <td>9.038370</td>\n",
       "      <td>0.270873</td>\n",
       "    </tr>\n",
       "    <tr>\n",
       "      <th>std</th>\n",
       "      <td>5.425276</td>\n",
       "      <td>3.708533</td>\n",
       "    </tr>\n",
       "    <tr>\n",
       "      <th>min</th>\n",
       "      <td>0.000000</td>\n",
       "      <td>-22.400000</td>\n",
       "    </tr>\n",
       "    <tr>\n",
       "      <th>25%</th>\n",
       "      <td>5.300000</td>\n",
       "      <td>-1.800000</td>\n",
       "    </tr>\n",
       "    <tr>\n",
       "      <th>50%</th>\n",
       "      <td>8.300000</td>\n",
       "      <td>0.300000</td>\n",
       "    </tr>\n",
       "    <tr>\n",
       "      <th>75%</th>\n",
       "      <td>11.800000</td>\n",
       "      <td>2.400000</td>\n",
       "    </tr>\n",
       "    <tr>\n",
       "      <th>max</th>\n",
       "      <td>60.200000</td>\n",
       "      <td>27.500000</td>\n",
       "    </tr>\n",
       "  </tbody>\n",
       "</table>\n",
       "</div>"
      ],
      "text/plain": [
       "       ba_higher_18_24  ba_higher_18_24_diff\n",
       "count      8186.000000           7354.000000\n",
       "mean          9.038370              0.270873\n",
       "std           5.425276              3.708533\n",
       "min           0.000000            -22.400000\n",
       "25%           5.300000             -1.800000\n",
       "50%           8.300000              0.300000\n",
       "75%          11.800000              2.400000\n",
       "max          60.200000             27.500000"
      ]
     },
     "execution_count": 394,
     "metadata": {},
     "output_type": "execute_result"
    }
   ],
   "source": [
    "df_attain_master_1y[['ba_higher_18_24','ba_higher_18_24_diff']].describe()"
   ]
  },
  {
   "cell_type": "code",
   "execution_count": 363,
   "id": "ecd5faf4-8d55-412a-9d40-e456a8a89264",
   "metadata": {},
   "outputs": [],
   "source": [
    "for dv in attain_dv_list:\n",
    "    df_attain_master_1y = CalDvDiff(df_attain_master_1y, dv)"
   ]
  },
  {
   "cell_type": "code",
   "execution_count": 382,
   "id": "baff37ba-20ad-4047-87e9-b2b74f51e14d",
   "metadata": {},
   "outputs": [],
   "source": [
    "for dv in ['college_grad_18_24','college_3_plus','grad_prof_3_plus']:\n",
    "           #college_grad_18_24D','college_3_plusD','grad_prof_3_plusD']:\n",
    "    df_enroll_master_1y_diff =  CalDvDiff(df_enroll_master_1y, dv)"
   ]
  },
  {
   "cell_type": "markdown",
   "id": "87608318-5499-40cf-a312-9db2a8a05743",
   "metadata": {
    "jp-MarkdownHeadingCollapsed": true,
    "tags": []
   },
   "source": [
    "### calculate log-income"
   ]
  },
  {
   "cell_type": "code",
   "execution_count": 201,
   "id": "bf41509c-6e3b-4d6b-b8ef-67bc13bf01cd",
   "metadata": {},
   "outputs": [],
   "source": [
    "for df in df_list:\n",
    "    df['log10_income'] = df['income'].apply(lambda x: np.log10(1+x))"
   ]
  },
  {
   "cell_type": "markdown",
   "id": "22e5b8e8-38cc-411c-bd99-6e61baf7c9bd",
   "metadata": {
    "tags": []
   },
   "source": [
    "## check master datasets"
   ]
  },
  {
   "cell_type": "markdown",
   "id": "aa16d1d7-99af-44cf-9acf-c9052589f369",
   "metadata": {
    "jp-MarkdownHeadingCollapsed": true,
    "tags": []
   },
   "source": [
    "### check sample information ```CheckSample```"
   ]
  },
  {
   "cell_type": "code",
   "execution_count": 177,
   "id": "9b37be72-4578-4da9-92c5-bb4cbacd32a4",
   "metadata": {},
   "outputs": [],
   "source": [
    "def CheckSample(df, df_des):\n",
    "    N = df.shape[0]\n",
    "    N_county = df.GEO_ID.unique().size\n",
    "    N_state = df.State.unique().size\n",
    "    \n",
    "    print('Sample information for {}:'.format(df_des))\n",
    "    print('N = {}, N of county = {} and N of state = {}'.format(N, N_county, N_state))\n",
    "    print('\\n')"
   ]
  },
  {
   "cell_type": "code",
   "execution_count": 178,
   "id": "e402cddb-83f8-4606-855f-b781b5ab9b94",
   "metadata": {},
   "outputs": [
    {
     "name": "stdout",
     "output_type": "stream",
     "text": [
      "Sample information for one-year estimated education attainment data:\n",
      "N = 8186, N of county = 831 and N of state = 51\n",
      "\n",
      "\n",
      "Sample information for five-year estimated education attainment data:\n",
      "N = 31400, N of county = 3141 and N of state = 51\n",
      "\n",
      "\n",
      "Sample information for one-year estimated school enrollmentt data:\n",
      "N = 8186, N of county = 831 and N of state = 51\n",
      "\n",
      "\n",
      "Sample information for five-year estimated school enrollment data:\n",
      "N = 31400, N of county = 3141 and N of state = 51\n",
      "\n",
      "\n"
     ]
    }
   ],
   "source": [
    "df_list = [df_attain_master_1y, df_attain_master_5y,df_enroll_master_1y, df_enroll_master_5y]\n",
    "df_des_list = ['one-year estimated education attainment data','five-year estimated education attainment data',\n",
    "               'one-year estimated school enrollmentt data','five-year estimated school enrollment data']\n",
    "\n",
    "for df, df_des in zip(df_list, df_des_list):\n",
    "    CheckSample(df, df_des)"
   ]
  },
  {
   "cell_type": "markdown",
   "id": "a7caa0f4-f3df-48f5-a798-45ff23db3916",
   "metadata": {
    "jp-MarkdownHeadingCollapsed": true,
    "tags": []
   },
   "source": [
    "### check counties/states with missing data ```Count_w_Missing```"
   ]
  },
  {
   "cell_type": "code",
   "execution_count": 179,
   "id": "2b0905dd-56ea-4b65-b021-60abec43d820",
   "metadata": {},
   "outputs": [],
   "source": [
    "def Count_w_Missing(df, df_des, count):\n",
    "    count_results = df.groupby('GEO_ID')['Year'].count()\n",
    "    df_count = pd.DataFrame(count_results).reset_index().rename(columns = {\"Year\": 'count'})\n",
    "    df_missing_temp = df_count[df_count['count'] != count]\n",
    "    df_missing = df_missing_temp.merge(df)\n",
    "    \n",
    "    N_county_w_missing = df_missing.GEO_ID.unique().size\n",
    "    N_state_w_missing = df_missing.State.unique().size\n",
    "    \n",
    "    print('Missing information for {}:'.format(df_des))\n",
    "    print('N of county with missing data = {} and N of state with missing data = {}'.format(N_county_w_missing, N_state_w_missing))\n",
    "    print('\\n')"
   ]
  },
  {
   "cell_type": "code",
   "execution_count": 180,
   "id": "8533338c-863b-444a-a46f-29ecfe9ec720",
   "metadata": {},
   "outputs": [
    {
     "name": "stdout",
     "output_type": "stream",
     "text": [
      "Missing information for one-year estimated education attainment data:\n",
      "N of county with missing data = 26 and N of state with missing data = 16\n",
      "\n",
      "\n",
      "Missing information for five-year estimated education attainment data:\n",
      "N of county with missing data = 2 and N of state with missing data = 2\n",
      "\n",
      "\n",
      "Missing information for one-year estimated school enrollmentt data:\n",
      "N of county with missing data = 26 and N of state with missing data = 16\n",
      "\n",
      "\n",
      "Missing information for five-year estimated school enrollment data:\n",
      "N of county with missing data = 2 and N of state with missing data = 2\n",
      "\n",
      "\n"
     ]
    }
   ],
   "source": [
    "for df, df_des in zip(df_list, df_des_list):\n",
    "    Count_w_Missing(df, df_des, 10)"
   ]
  },
  {
   "cell_type": "markdown",
   "id": "8e88b90c-f919-4afb-995a-778124fb3e87",
   "metadata": {
    "tags": []
   },
   "source": [
    "### check distribution of variables ```CheckDist```"
   ]
  },
  {
   "cell_type": "code",
   "execution_count": 187,
   "id": "e9b3f523-4a50-4e2d-973f-a98cbd2ff77f",
   "metadata": {},
   "outputs": [],
   "source": [
    "def CheckDist(df, df_des, dv):\n",
    "    plt.hist(df[dv], 20)\n",
    "    \n",
    "    plt.title('Distribution of {} \\n (data: {})'.format(dv, df_des))\n",
    "    \n",
    "    plt.show()"
   ]
  },
  {
   "cell_type": "markdown",
   "id": "a6a5e156-9283-4155-a932-932d07f36a2f",
   "metadata": {
    "jp-MarkdownHeadingCollapsed": true,
    "tags": []
   },
   "source": [
    "##### check dvs of education attainment"
   ]
  },
  {
   "cell_type": "code",
   "execution_count": 190,
   "id": "983d963b-0090-4acc-ae3c-723429fb51cd",
   "metadata": {},
   "outputs": [
    {
     "data": {
      "image/png": "[encoded data removed]",
      "text/plain": [
       "<Figure size 640x480 with 1 Axes>"
      ]
     },
     "metadata": {},
     "output_type": "display_data"
    },
    {
     "data": {
      "image/png": "[encoded data removed]",
      "text/plain": [
       "<Figure size 640x480 with 1 Axes>"
      ]
     },
     "metadata": {},
     "output_type": "display_data"
    },
    {
     "data": {
      "image/png": "[encoded data removed]",
      "text/plain": [
       "<Figure size 640x480 with 1 Axes>"
      ]
     },
     "metadata": {},
     "output_type": "display_data"
    },
    {
     "data": {
      "image/png": "[encoded data removed]",
      "text/plain": [
       "<Figure size 640x480 with 1 Axes>"
      ]
     },
     "metadata": {},
     "output_type": "display_data"
    },
    {
     "data": {
      "image/png": "[encoded data removed]",
      "text/plain": [
       "<Figure size 640x480 with 1 Axes>"
      ]
     },
     "metadata": {},
     "output_type": "display_data"
    },
    {
     "data": {
      "image/png": "[encoded data removed]",
      "text/plain": [
       "<Figure size 640x480 with 1 Axes>"
      ]
     },
     "metadata": {},
     "output_type": "display_data"
    },
    {
     "data": {
      "image/png": "[encoded data removed]",
      "text/plain": [
       "<Figure size 640x480 with 1 Axes>"
      ]
     },
     "metadata": {},
     "output_type": "display_data"
    },
    {
     "data": {
      "image/png": "[encoded data removed]",
      "text/plain": [
       "<Figure size 640x480 with 1 Axes>"
      ]
     },
     "metadata": {},
     "output_type": "display_data"
    },
    {
     "data": {
      "image/png": "[encoded data removed]",
      "text/plain": [
       "<Figure size 640x480 with 1 Axes>"
      ]
     },
     "metadata": {},
     "output_type": "display_data"
    },
    {
     "data": {
      "image/png": "[encoded data removed]",
      "text/plain": [
       "<Figure size 640x480 with 1 Axes>"
      ]
     },
     "metadata": {},
     "output_type": "display_data"
    }
   ],
   "source": [
    "dv_attain = ['ba_higher_18_24D','ba_higher_25_34D',\n",
    "             'some_college_asso_18_24D',\n",
    "             'ba_25_plusD','grad_prof_25_plusD']\n",
    "\n",
    "\n",
    "df_attain = df_list[0:2]\n",
    "df_des_attain = df_des_list[0:2]\n",
    "\n",
    "for df, df_des in zip(df_attain, df_des_attain):\n",
    "    for dv in dv_attain:\n",
    "        CheckDist(df, df_des, dv)"
   ]
  },
  {
   "cell_type": "markdown",
   "id": "c0429264-1cfe-4fb5-ac03-4f76b393cb6f",
   "metadata": {
    "jp-MarkdownHeadingCollapsed": true,
    "tags": []
   },
   "source": [
    "##### check dv of school enrollment"
   ]
  },
  {
   "cell_type": "code",
   "execution_count": 199,
   "id": "7b5f386a-4a78-42c9-ad67-82d8dd909453",
   "metadata": {},
   "outputs": [
    {
     "data": {
      "image/png": "[encoded data removed]",
      "text/plain": [
       "<Figure size 640x480 with 1 Axes>"
      ]
     },
     "metadata": {},
     "output_type": "display_data"
    },
    {
     "data": {
      "image/png": "[encoded data removed]",
      "text/plain": [
       "<Figure size 640x480 with 1 Axes>"
      ]
     },
     "metadata": {},
     "output_type": "display_data"
    },
    {
     "data": {
      "image/png": "[encoded data removed]",
      "text/plain": [
       "<Figure size 640x480 with 1 Axes>"
      ]
     },
     "metadata": {},
     "output_type": "display_data"
    },
    {
     "data": {
      "image/png": "[encoded data removed]",
      "text/plain": [
       "<Figure size 640x480 with 1 Axes>"
      ]
     },
     "metadata": {},
     "output_type": "display_data"
    },
    {
     "data": {
      "image/png": "[encoded data removed]",
      "text/plain": [
       "<Figure size 640x480 with 1 Axes>"
      ]
     },
     "metadata": {},
     "output_type": "display_data"
    },
    {
     "data": {
      "image/png": "[encoded data removed]",
      "text/plain": [
       "<Figure size 640x480 with 1 Axes>"
      ]
     },
     "metadata": {},
     "output_type": "display_data"
    }
   ],
   "source": [
    "dv_enroll = ['college_grad_18_24',\n",
    "             'college_3_plus',\n",
    "             'grad_prof_3_plus']\n",
    "\n",
    "\n",
    "df_enroll = df_list[2:4]\n",
    "df_des_enroll = df_des_list[2:4]\n",
    "\n",
    "for df, df_des in zip(df_enroll, df_des_enroll):\n",
    "    for dv in dv_enroll:\n",
    "        CheckDist(df, df_des, dv)"
   ]
  },
  {
   "cell_type": "markdown",
   "id": "203bace8-aebc-4fd4-98a7-0ae1e9ab8dfb",
   "metadata": {
    "tags": []
   },
   "source": [
    "## save the master datasets"
   ]
  },
  {
   "cell_type": "code",
   "execution_count": 205,
   "id": "b4d5b0e1-7d8f-4cd4-adac-b6dc09ed5308",
   "metadata": {},
   "outputs": [],
   "source": [
    "def SaveData(df, df_name):\n",
    "    df_path = df_name + '.csv'\n",
    "    df.to_csv(df_path, index = False)"
   ]
  },
  {
   "cell_type": "code",
   "execution_count": 206,
   "id": "1decc608-3cb3-4af0-96fc-ec23fea05d9e",
   "metadata": {},
   "outputs": [],
   "source": [
    "df_name_list = ['df_attain_master_1y','df_attain_master_5y','df_enroll_master_1y','df_enroll_master_5y']\n",
    "\n",
    "for df, df_name in zip(df_list, df_name_list):\n",
    "    SaveData(df, df_name)"
   ]
  },
  {
   "cell_type": "code",
   "execution_count": 400,
   "id": "875e71e3-5f81-413b-bc8d-03326a58c981",
   "metadata": {},
   "outputs": [
    {
     "data": {
      "text/html": [
       "<div>\n",
       "<style scoped>\n",
       "    .dataframe tbody tr th:only-of-type {\n",
       "        vertical-align: middle;\n",
       "    }\n",
       "\n",
       "    .dataframe tbody tr th {\n",
       "        vertical-align: top;\n",
       "    }\n",
       "\n",
       "    .dataframe thead th {\n",
       "        text-align: right;\n",
       "    }\n",
       "</style>\n",
       "<table border=\"1\" class=\"dataframe\">\n",
       "  <thead>\n",
       "    <tr style=\"text-align: right;\">\n",
       "      <th></th>\n",
       "      <th>pop_total_18_24</th>\n",
       "      <th>pop_total_25_34</th>\n",
       "      <th>pop_total_25_plus</th>\n",
       "      <th>hs_18_24</th>\n",
       "      <th>some_college_asso_18_24</th>\n",
       "      <th>ba_higher_18_24</th>\n",
       "      <th>hs_25_plus</th>\n",
       "      <th>some_college_25_plus</th>\n",
       "      <th>asso_25_plus</th>\n",
       "      <th>ba_25_plus</th>\n",
       "      <th>...</th>\n",
       "      <th>ba_higher_18_24D_diff</th>\n",
       "      <th>hs_25_plusD_diff</th>\n",
       "      <th>some_college_25_plusD_diff</th>\n",
       "      <th>asso_25_plusD_diff</th>\n",
       "      <th>ba_25_plusD_diff</th>\n",
       "      <th>grad_prof_25_plusD_diff</th>\n",
       "      <th>hs_higher_25_plusD_diff</th>\n",
       "      <th>ba_higher_25_plusD_diff</th>\n",
       "      <th>hs_higher_25_34D_diff</th>\n",
       "      <th>ba_higher_25_34D_diff</th>\n",
       "    </tr>\n",
       "  </thead>\n",
       "  <tbody>\n",
       "    <tr>\n",
       "      <th>count</th>\n",
       "      <td>8.186000e+03</td>\n",
       "      <td>8.186000e+03</td>\n",
       "      <td>8.186000e+03</td>\n",
       "      <td>8186.000000</td>\n",
       "      <td>8186.000000</td>\n",
       "      <td>8186.000000</td>\n",
       "      <td>8186.000000</td>\n",
       "      <td>8186.000000</td>\n",
       "      <td>8186.000000</td>\n",
       "      <td>8186.000000</td>\n",
       "      <td>...</td>\n",
       "      <td>7354.000000</td>\n",
       "      <td>7354.000000</td>\n",
       "      <td>7354.000000</td>\n",
       "      <td>7354.000000</td>\n",
       "      <td>7354.000000</td>\n",
       "      <td>7354.000000</td>\n",
       "      <td>7354.000000</td>\n",
       "      <td>7354.000000</td>\n",
       "      <td>7354.000000</td>\n",
       "      <td>7354.000000</td>\n",
       "    </tr>\n",
       "    <tr>\n",
       "      <th>mean</th>\n",
       "      <td>3.250947e+04</td>\n",
       "      <td>4.622439e+04</td>\n",
       "      <td>2.212228e+05</td>\n",
       "      <td>32.326228</td>\n",
       "      <td>44.417982</td>\n",
       "      <td>9.038370</td>\n",
       "      <td>29.353958</td>\n",
       "      <td>21.672013</td>\n",
       "      <td>8.724383</td>\n",
       "      <td>17.792108</td>\n",
       "      <td>...</td>\n",
       "      <td>0.002709</td>\n",
       "      <td>-0.001506</td>\n",
       "      <td>-0.001373</td>\n",
       "      <td>0.001282</td>\n",
       "      <td>0.002470</td>\n",
       "      <td>0.002263</td>\n",
       "      <td>0.003132</td>\n",
       "      <td>0.004730</td>\n",
       "      <td>0.004052</td>\n",
       "      <td>0.004566</td>\n",
       "    </tr>\n",
       "    <tr>\n",
       "      <th>std</th>\n",
       "      <td>5.707605e+04</td>\n",
       "      <td>9.081433e+04</td>\n",
       "      <td>3.887380e+05</td>\n",
       "      <td>8.194419</td>\n",
       "      <td>9.744485</td>\n",
       "      <td>5.425276</td>\n",
       "      <td>6.923328</td>\n",
       "      <td>3.949012</td>\n",
       "      <td>2.102176</td>\n",
       "      <td>5.868887</td>\n",
       "      <td>...</td>\n",
       "      <td>0.037085</td>\n",
       "      <td>0.023381</td>\n",
       "      <td>0.021241</td>\n",
       "      <td>0.013673</td>\n",
       "      <td>0.017554</td>\n",
       "      <td>0.013730</td>\n",
       "      <td>0.017354</td>\n",
       "      <td>0.021229</td>\n",
       "      <td>0.040240</td>\n",
       "      <td>0.053582</td>\n",
       "    </tr>\n",
       "    <tr>\n",
       "      <th>min</th>\n",
       "      <td>3.049000e+03</td>\n",
       "      <td>4.980000e+03</td>\n",
       "      <td>3.498200e+04</td>\n",
       "      <td>5.500000</td>\n",
       "      <td>11.000000</td>\n",
       "      <td>0.000000</td>\n",
       "      <td>6.600000</td>\n",
       "      <td>6.600000</td>\n",
       "      <td>2.300000</td>\n",
       "      <td>4.000000</td>\n",
       "      <td>...</td>\n",
       "      <td>-0.224000</td>\n",
       "      <td>-0.111000</td>\n",
       "      <td>-0.107000</td>\n",
       "      <td>-0.071000</td>\n",
       "      <td>-0.070000</td>\n",
       "      <td>-0.119000</td>\n",
       "      <td>-0.081000</td>\n",
       "      <td>-0.091000</td>\n",
       "      <td>-0.191000</td>\n",
       "      <td>-0.261000</td>\n",
       "    </tr>\n",
       "    <tr>\n",
       "      <th>25%</th>\n",
       "      <td>9.084500e+03</td>\n",
       "      <td>1.159925e+04</td>\n",
       "      <td>6.375825e+04</td>\n",
       "      <td>27.000000</td>\n",
       "      <td>38.400000</td>\n",
       "      <td>5.300000</td>\n",
       "      <td>24.700000</td>\n",
       "      <td>19.100000</td>\n",
       "      <td>7.300000</td>\n",
       "      <td>13.300000</td>\n",
       "      <td>...</td>\n",
       "      <td>-0.018000</td>\n",
       "      <td>-0.015000</td>\n",
       "      <td>-0.013000</td>\n",
       "      <td>-0.007000</td>\n",
       "      <td>-0.008000</td>\n",
       "      <td>-0.006000</td>\n",
       "      <td>-0.007000</td>\n",
       "      <td>-0.007000</td>\n",
       "      <td>-0.017000</td>\n",
       "      <td>-0.026000</td>\n",
       "    </tr>\n",
       "    <tr>\n",
       "      <th>50%</th>\n",
       "      <td>1.564050e+04</td>\n",
       "      <td>1.946950e+04</td>\n",
       "      <td>1.047845e+05</td>\n",
       "      <td>32.000000</td>\n",
       "      <td>43.700000</td>\n",
       "      <td>8.300000</td>\n",
       "      <td>29.300000</td>\n",
       "      <td>21.700000</td>\n",
       "      <td>8.600000</td>\n",
       "      <td>17.200000</td>\n",
       "      <td>...</td>\n",
       "      <td>0.003000</td>\n",
       "      <td>-0.002000</td>\n",
       "      <td>-0.002000</td>\n",
       "      <td>0.001000</td>\n",
       "      <td>0.002000</td>\n",
       "      <td>0.002000</td>\n",
       "      <td>0.003000</td>\n",
       "      <td>0.005000</td>\n",
       "      <td>0.004000</td>\n",
       "      <td>0.005000</td>\n",
       "    </tr>\n",
       "    <tr>\n",
       "      <th>75%</th>\n",
       "      <td>3.588850e+04</td>\n",
       "      <td>4.371125e+04</td>\n",
       "      <td>2.189388e+05</td>\n",
       "      <td>37.300000</td>\n",
       "      <td>49.500000</td>\n",
       "      <td>11.800000</td>\n",
       "      <td>33.800000</td>\n",
       "      <td>24.200000</td>\n",
       "      <td>10.000000</td>\n",
       "      <td>21.400000</td>\n",
       "      <td>...</td>\n",
       "      <td>0.024000</td>\n",
       "      <td>0.012000</td>\n",
       "      <td>0.011000</td>\n",
       "      <td>0.009000</td>\n",
       "      <td>0.013000</td>\n",
       "      <td>0.010000</td>\n",
       "      <td>0.013000</td>\n",
       "      <td>0.017000</td>\n",
       "      <td>0.025000</td>\n",
       "      <td>0.036000</td>\n",
       "    </tr>\n",
       "    <tr>\n",
       "      <th>max</th>\n",
       "      <td>1.077469e+06</td>\n",
       "      <td>1.640038e+06</td>\n",
       "      <td>6.961614e+06</td>\n",
       "      <td>67.400000</td>\n",
       "      <td>82.200000</td>\n",
       "      <td>60.200000</td>\n",
       "      <td>53.000000</td>\n",
       "      <td>36.300000</td>\n",
       "      <td>18.100000</td>\n",
       "      <td>40.500000</td>\n",
       "      <td>...</td>\n",
       "      <td>0.275000</td>\n",
       "      <td>0.109000</td>\n",
       "      <td>0.104000</td>\n",
       "      <td>0.074000</td>\n",
       "      <td>0.093000</td>\n",
       "      <td>0.066000</td>\n",
       "      <td>0.086000</td>\n",
       "      <td>0.118000</td>\n",
       "      <td>0.251000</td>\n",
       "      <td>0.292000</td>\n",
       "    </tr>\n",
       "  </tbody>\n",
       "</table>\n",
       "<p>8 rows × 62 columns</p>\n",
       "</div>"
      ],
      "text/plain": [
       "       pop_total_18_24  pop_total_25_34  pop_total_25_plus     hs_18_24  \\\n",
       "count     8.186000e+03     8.186000e+03       8.186000e+03  8186.000000   \n",
       "mean      3.250947e+04     4.622439e+04       2.212228e+05    32.326228   \n",
       "std       5.707605e+04     9.081433e+04       3.887380e+05     8.194419   \n",
       "min       3.049000e+03     4.980000e+03       3.498200e+04     5.500000   \n",
       "25%       9.084500e+03     1.159925e+04       6.375825e+04    27.000000   \n",
       "50%       1.564050e+04     1.946950e+04       1.047845e+05    32.000000   \n",
       "75%       3.588850e+04     4.371125e+04       2.189388e+05    37.300000   \n",
       "max       1.077469e+06     1.640038e+06       6.961614e+06    67.400000   \n",
       "\n",
       "       some_college_asso_18_24  ba_higher_18_24   hs_25_plus  \\\n",
       "count              8186.000000      8186.000000  8186.000000   \n",
       "mean                 44.417982         9.038370    29.353958   \n",
       "std                   9.744485         5.425276     6.923328   \n",
       "min                  11.000000         0.000000     6.600000   \n",
       "25%                  38.400000         5.300000    24.700000   \n",
       "50%                  43.700000         8.300000    29.300000   \n",
       "75%                  49.500000        11.800000    33.800000   \n",
       "max                  82.200000        60.200000    53.000000   \n",
       "\n",
       "       some_college_25_plus  asso_25_plus   ba_25_plus  ...  \\\n",
       "count           8186.000000   8186.000000  8186.000000  ...   \n",
       "mean              21.672013      8.724383    17.792108  ...   \n",
       "std                3.949012      2.102176     5.868887  ...   \n",
       "min                6.600000      2.300000     4.000000  ...   \n",
       "25%               19.100000      7.300000    13.300000  ...   \n",
       "50%               21.700000      8.600000    17.200000  ...   \n",
       "75%               24.200000     10.000000    21.400000  ...   \n",
       "max               36.300000     18.100000    40.500000  ...   \n",
       "\n",
       "       ba_higher_18_24D_diff  hs_25_plusD_diff  some_college_25_plusD_diff  \\\n",
       "count            7354.000000       7354.000000                 7354.000000   \n",
       "mean                0.002709         -0.001506                   -0.001373   \n",
       "std                 0.037085          0.023381                    0.021241   \n",
       "min                -0.224000         -0.111000                   -0.107000   \n",
       "25%                -0.018000         -0.015000                   -0.013000   \n",
       "50%                 0.003000         -0.002000                   -0.002000   \n",
       "75%                 0.024000          0.012000                    0.011000   \n",
       "max                 0.275000          0.109000                    0.104000   \n",
       "\n",
       "       asso_25_plusD_diff  ba_25_plusD_diff  grad_prof_25_plusD_diff  \\\n",
       "count         7354.000000       7354.000000              7354.000000   \n",
       "mean             0.001282          0.002470                 0.002263   \n",
       "std              0.013673          0.017554                 0.013730   \n",
       "min             -0.071000         -0.070000                -0.119000   \n",
       "25%             -0.007000         -0.008000                -0.006000   \n",
       "50%              0.001000          0.002000                 0.002000   \n",
       "75%              0.009000          0.013000                 0.010000   \n",
       "max              0.074000          0.093000                 0.066000   \n",
       "\n",
       "       hs_higher_25_plusD_diff  ba_higher_25_plusD_diff  \\\n",
       "count              7354.000000              7354.000000   \n",
       "mean                  0.003132                 0.004730   \n",
       "std                   0.017354                 0.021229   \n",
       "min                  -0.081000                -0.091000   \n",
       "25%                  -0.007000                -0.007000   \n",
       "50%                   0.003000                 0.005000   \n",
       "75%                   0.013000                 0.017000   \n",
       "max                   0.086000                 0.118000   \n",
       "\n",
       "       hs_higher_25_34D_diff  ba_higher_25_34D_diff  \n",
       "count            7354.000000            7354.000000  \n",
       "mean                0.004052               0.004566  \n",
       "std                 0.040240               0.053582  \n",
       "min                -0.191000              -0.261000  \n",
       "25%                -0.017000              -0.026000  \n",
       "50%                 0.004000               0.005000  \n",
       "75%                 0.025000               0.036000  \n",
       "max                 0.251000               0.292000  \n",
       "\n",
       "[8 rows x 62 columns]"
      ]
     },
     "execution_count": 400,
     "metadata": {},
     "output_type": "execute_result"
    }
   ],
   "source": [
    "df_attain_master_1y.describe()"
   ]
  },
  {
   "cell_type": "code",
   "execution_count": 399,
   "id": "8c3a18b0-1985-4496-9d1d-d2b857819deb",
   "metadata": {},
   "outputs": [
    {
     "data": {
      "text/plain": [
       "(array([ 860., 2964., 2435., 1033.,  527.,  213.,   72.,   59.,   15.,\n",
       "           8.]),\n",
       " array([ 1.5 ,  5.42,  9.34, 13.26, 17.18, 21.1 , 25.02, 28.94, 32.86,\n",
       "        36.78, 40.7 ]),\n",
       " <BarContainer object of 10 artists>)"
      ]
     },
     "execution_count": 399,
     "metadata": {},
     "output_type": "execute_result"
    },
    {
     "data": {
      "image/png": "[encoded data removed]",
      "text/plain": [
       "<Figure size 640x480 with 1 Axes>"
      ]
     },
     "metadata": {},
     "output_type": "display_data"
    }
   ],
   "source": [
    "plt.hist(df_attain_master_1y.grad_prof_25_plus)"
   ]
  },
  {
   "cell_type": "code",
   "execution_count": 145,
   "id": "b3d29a49-27a2-447b-a713-4815923aafdd",
   "metadata": {},
   "outputs": [],
   "source": [
    "test = df_attain_master_1y.head(100)[['NAME','GEO_ID','ba_higher_18_24','Year','County','State','county','state','gini']]"
   ]
  },
  {
   "cell_type": "code",
   "execution_count": 146,
   "id": "4fad3ef0-b7b2-4274-a9e2-9d283c8d8e7f",
   "metadata": {},
   "outputs": [
    {
     "data": {
      "text/html": [
       "<div>\n",
       "<style scoped>\n",
       "    .dataframe tbody tr th:only-of-type {\n",
       "        vertical-align: middle;\n",
       "    }\n",
       "\n",
       "    .dataframe tbody tr th {\n",
       "        vertical-align: top;\n",
       "    }\n",
       "\n",
       "    .dataframe thead th {\n",
       "        text-align: right;\n",
       "    }\n",
       "</style>\n",
       "<table border=\"1\" class=\"dataframe\">\n",
       "  <thead>\n",
       "    <tr style=\"text-align: right;\">\n",
       "      <th></th>\n",
       "      <th>NAME</th>\n",
       "      <th>GEO_ID</th>\n",
       "      <th>ba_higher_18_24</th>\n",
       "      <th>Year</th>\n",
       "      <th>County</th>\n",
       "      <th>State</th>\n",
       "      <th>county</th>\n",
       "      <th>state</th>\n",
       "      <th>gini</th>\n",
       "    </tr>\n",
       "  </thead>\n",
       "  <tbody>\n",
       "    <tr>\n",
       "      <th>0</th>\n",
       "      <td>Baldwin County, Alabama</td>\n",
       "      <td>0500000US01003</td>\n",
       "      <td>10.7</td>\n",
       "      <td>2010</td>\n",
       "      <td>Baldwin County</td>\n",
       "      <td>Alabama</td>\n",
       "      <td>3</td>\n",
       "      <td>1</td>\n",
       "      <td>0.4390</td>\n",
       "    </tr>\n",
       "    <tr>\n",
       "      <th>1</th>\n",
       "      <td>Baldwin County, Alabama</td>\n",
       "      <td>0500000US01003</td>\n",
       "      <td>8.9</td>\n",
       "      <td>2011</td>\n",
       "      <td>Baldwin County</td>\n",
       "      <td>Alabama</td>\n",
       "      <td>3</td>\n",
       "      <td>1</td>\n",
       "      <td>0.4370</td>\n",
       "    </tr>\n",
       "    <tr>\n",
       "      <th>2</th>\n",
       "      <td>Baldwin County, Alabama</td>\n",
       "      <td>0500000US01003</td>\n",
       "      <td>3.7</td>\n",
       "      <td>2012</td>\n",
       "      <td>Baldwin County</td>\n",
       "      <td>Alabama</td>\n",
       "      <td>3</td>\n",
       "      <td>1</td>\n",
       "      <td>0.4364</td>\n",
       "    </tr>\n",
       "    <tr>\n",
       "      <th>3</th>\n",
       "      <td>Baldwin County, Alabama</td>\n",
       "      <td>0500000US01003</td>\n",
       "      <td>11.6</td>\n",
       "      <td>2013</td>\n",
       "      <td>Baldwin County</td>\n",
       "      <td>Alabama</td>\n",
       "      <td>3</td>\n",
       "      <td>1</td>\n",
       "      <td>0.4455</td>\n",
       "    </tr>\n",
       "    <tr>\n",
       "      <th>4</th>\n",
       "      <td>Baldwin County, Alabama</td>\n",
       "      <td>0500000US01003</td>\n",
       "      <td>8.6</td>\n",
       "      <td>2014</td>\n",
       "      <td>Baldwin County</td>\n",
       "      <td>Alabama</td>\n",
       "      <td>3</td>\n",
       "      <td>1</td>\n",
       "      <td>0.4517</td>\n",
       "    </tr>\n",
       "    <tr>\n",
       "      <th>...</th>\n",
       "      <td>...</td>\n",
       "      <td>...</td>\n",
       "      <td>...</td>\n",
       "      <td>...</td>\n",
       "      <td>...</td>\n",
       "      <td>...</td>\n",
       "      <td>...</td>\n",
       "      <td>...</td>\n",
       "      <td>...</td>\n",
       "    </tr>\n",
       "    <tr>\n",
       "      <th>95</th>\n",
       "      <td>Lee County, Alabama</td>\n",
       "      <td>0500000US01081</td>\n",
       "      <td>9.5</td>\n",
       "      <td>2015</td>\n",
       "      <td>Lee County</td>\n",
       "      <td>Alabama</td>\n",
       "      <td>81</td>\n",
       "      <td>1</td>\n",
       "      <td>0.4976</td>\n",
       "    </tr>\n",
       "    <tr>\n",
       "      <th>96</th>\n",
       "      <td>Lee County, Alabama</td>\n",
       "      <td>0500000US01081</td>\n",
       "      <td>16.8</td>\n",
       "      <td>2016</td>\n",
       "      <td>Lee County</td>\n",
       "      <td>Alabama</td>\n",
       "      <td>81</td>\n",
       "      <td>1</td>\n",
       "      <td>0.5003</td>\n",
       "    </tr>\n",
       "    <tr>\n",
       "      <th>97</th>\n",
       "      <td>Lee County, Alabama</td>\n",
       "      <td>0500000US01081</td>\n",
       "      <td>6.9</td>\n",
       "      <td>2017</td>\n",
       "      <td>Lee County</td>\n",
       "      <td>Alabama</td>\n",
       "      <td>81</td>\n",
       "      <td>1</td>\n",
       "      <td>0.5008</td>\n",
       "    </tr>\n",
       "    <tr>\n",
       "      <th>98</th>\n",
       "      <td>Lee County, Alabama</td>\n",
       "      <td>0500000US01081</td>\n",
       "      <td>10.1</td>\n",
       "      <td>2018</td>\n",
       "      <td>Lee County</td>\n",
       "      <td>Alabama</td>\n",
       "      <td>81</td>\n",
       "      <td>1</td>\n",
       "      <td>0.5081</td>\n",
       "    </tr>\n",
       "    <tr>\n",
       "      <th>99</th>\n",
       "      <td>Lee County, Alabama</td>\n",
       "      <td>0500000US01081</td>\n",
       "      <td>9.7</td>\n",
       "      <td>2019</td>\n",
       "      <td>Lee County</td>\n",
       "      <td>Alabama</td>\n",
       "      <td>81</td>\n",
       "      <td>1</td>\n",
       "      <td>0.5026</td>\n",
       "    </tr>\n",
       "  </tbody>\n",
       "</table>\n",
       "<p>100 rows × 9 columns</p>\n",
       "</div>"
      ],
      "text/plain": [
       "                       NAME          GEO_ID  ba_higher_18_24  Year  \\\n",
       "0   Baldwin County, Alabama  0500000US01003             10.7  2010   \n",
       "1   Baldwin County, Alabama  0500000US01003              8.9  2011   \n",
       "2   Baldwin County, Alabama  0500000US01003              3.7  2012   \n",
       "3   Baldwin County, Alabama  0500000US01003             11.6  2013   \n",
       "4   Baldwin County, Alabama  0500000US01003              8.6  2014   \n",
       "..                      ...             ...              ...   ...   \n",
       "95      Lee County, Alabama  0500000US01081              9.5  2015   \n",
       "96      Lee County, Alabama  0500000US01081             16.8  2016   \n",
       "97      Lee County, Alabama  0500000US01081              6.9  2017   \n",
       "98      Lee County, Alabama  0500000US01081             10.1  2018   \n",
       "99      Lee County, Alabama  0500000US01081              9.7  2019   \n",
       "\n",
       "            County    State  county  state    gini  \n",
       "0   Baldwin County  Alabama       3      1  0.4390  \n",
       "1   Baldwin County  Alabama       3      1  0.4370  \n",
       "2   Baldwin County  Alabama       3      1  0.4364  \n",
       "3   Baldwin County  Alabama       3      1  0.4455  \n",
       "4   Baldwin County  Alabama       3      1  0.4517  \n",
       "..             ...      ...     ...    ...     ...  \n",
       "95      Lee County  Alabama      81      1  0.4976  \n",
       "96      Lee County  Alabama      81      1  0.5003  \n",
       "97      Lee County  Alabama      81      1  0.5008  \n",
       "98      Lee County  Alabama      81      1  0.5081  \n",
       "99      Lee County  Alabama      81      1  0.5026  \n",
       "\n",
       "[100 rows x 9 columns]"
      ]
     },
     "execution_count": 146,
     "metadata": {},
     "output_type": "execute_result"
    }
   ],
   "source": [
    "test"
   ]
  },
  {
   "cell_type": "code",
   "execution_count": 116,
   "id": "cb351054-c941-431b-86a7-07cb7d1b016f",
   "metadata": {},
   "outputs": [],
   "source": []
  },
  {
   "cell_type": "code",
   "execution_count": 125,
   "id": "f8704e01-cb3b-46fe-beae-c6a73d10dbeb",
   "metadata": {},
   "outputs": [
    {
     "data": {
      "text/html": [
       "<div>\n",
       "<style scoped>\n",
       "    .dataframe tbody tr th:only-of-type {\n",
       "        vertical-align: middle;\n",
       "    }\n",
       "\n",
       "    .dataframe tbody tr th {\n",
       "        vertical-align: top;\n",
       "    }\n",
       "\n",
       "    .dataframe thead th {\n",
       "        text-align: right;\n",
       "    }\n",
       "</style>\n",
       "<table border=\"1\" class=\"dataframe\">\n",
       "  <thead>\n",
       "    <tr style=\"text-align: right;\">\n",
       "      <th></th>\n",
       "      <th>Year</th>\n",
       "      <th>GEO_ID</th>\n",
       "      <th>diff</th>\n",
       "    </tr>\n",
       "  </thead>\n",
       "  <tbody>\n",
       "    <tr>\n",
       "      <th>0</th>\n",
       "      <td>2011</td>\n",
       "      <td>0500000US01003</td>\n",
       "      <td>-1.8</td>\n",
       "    </tr>\n",
       "    <tr>\n",
       "      <th>0</th>\n",
       "      <td>2012</td>\n",
       "      <td>0500000US01003</td>\n",
       "      <td>-5.2</td>\n",
       "    </tr>\n",
       "    <tr>\n",
       "      <th>0</th>\n",
       "      <td>2013</td>\n",
       "      <td>0500000US01003</td>\n",
       "      <td>7.9</td>\n",
       "    </tr>\n",
       "    <tr>\n",
       "      <th>0</th>\n",
       "      <td>2014</td>\n",
       "      <td>0500000US01003</td>\n",
       "      <td>-3.0</td>\n",
       "    </tr>\n",
       "    <tr>\n",
       "      <th>0</th>\n",
       "      <td>2015</td>\n",
       "      <td>0500000US01003</td>\n",
       "      <td>0.7</td>\n",
       "    </tr>\n",
       "    <tr>\n",
       "      <th>...</th>\n",
       "      <td>...</td>\n",
       "      <td>...</td>\n",
       "      <td>...</td>\n",
       "    </tr>\n",
       "    <tr>\n",
       "      <th>0</th>\n",
       "      <td>2019</td>\n",
       "      <td>0500000US01081</td>\n",
       "      <td>-0.4</td>\n",
       "    </tr>\n",
       "    <tr>\n",
       "      <th>0</th>\n",
       "      <td>2019</td>\n",
       "      <td>0500000US01081</td>\n",
       "      <td>-0.4</td>\n",
       "    </tr>\n",
       "    <tr>\n",
       "      <th>0</th>\n",
       "      <td>2019</td>\n",
       "      <td>0500000US01081</td>\n",
       "      <td>-0.4</td>\n",
       "    </tr>\n",
       "    <tr>\n",
       "      <th>0</th>\n",
       "      <td>2019</td>\n",
       "      <td>0500000US01081</td>\n",
       "      <td>-0.4</td>\n",
       "    </tr>\n",
       "    <tr>\n",
       "      <th>0</th>\n",
       "      <td>2019</td>\n",
       "      <td>0500000US01081</td>\n",
       "      <td>-0.4</td>\n",
       "    </tr>\n",
       "  </tbody>\n",
       "</table>\n",
       "<p>1000 rows × 3 columns</p>\n",
       "</div>"
      ],
      "text/plain": [
       "    Year          GEO_ID  diff\n",
       "0   2011  0500000US01003  -1.8\n",
       "0   2012  0500000US01003  -5.2\n",
       "0   2013  0500000US01003   7.9\n",
       "0   2014  0500000US01003  -3.0\n",
       "0   2015  0500000US01003   0.7\n",
       "..   ...             ...   ...\n",
       "0   2019  0500000US01081  -0.4\n",
       "0   2019  0500000US01081  -0.4\n",
       "0   2019  0500000US01081  -0.4\n",
       "0   2019  0500000US01081  -0.4\n",
       "0   2019  0500000US01081  -0.4\n",
       "\n",
       "[1000 rows x 3 columns]"
      ]
     },
     "execution_count": 125,
     "metadata": {},
     "output_type": "execute_result"
    }
   ],
   "source": [
    "result_df "
   ]
  },
  {
   "cell_type": "code",
   "execution_count": 132,
   "id": "ed9b39dd-32ec-4cad-927e-824e482ef406",
   "metadata": {},
   "outputs": [],
   "source": [
    "result_df = pd.DataFrame()\n",
    "temp_df = pd.DataFrame()\n",
    "\n",
    "for county in test['GEO_ID'].unique():\n",
    "    for year in np.arange(2011,2020): \n",
    "        previous_year =  test.loc[(test['Year'] == year-1) & (test['GEO_ID'] == county), 'ba_higher_18_24'].values[0]\n",
    "        current_year  =  test.loc[(test['Year'] == year) & (test['GEO_ID'] == county), 'ba_higher_18_24'].values[0]\n",
    "        year_diff = current_year -  previous_year\n",
    "        \n",
    "        temp_df = pd.DataFrame({'Year': [year], 'GEO_ID': [county], 'diff': [year_diff]})\n",
    "        \n",
    "        # Concatenate the temporary DataFrame with the result DataFrame\n",
    "        result_df = pd.concat([result_df, temp_df])"
   ]
  },
  {
   "cell_type": "code",
   "execution_count": 136,
   "id": "099814da-d73a-494e-afb6-30bf302b28d1",
   "metadata": {},
   "outputs": [],
   "source": []
  },
  {
   "cell_type": "code",
   "execution_count": 149,
   "id": "2bd4f09e-0e64-451d-86dd-c52b06fa0502",
   "metadata": {},
   "outputs": [],
   "source": [
    "df_diff = CalDvDiff(test, 'ba_higher_18_24')"
   ]
  },
  {
   "cell_type": "code",
   "execution_count": 151,
   "id": "db6fdce9-a171-46b5-b884-9695ab132ce1",
   "metadata": {},
   "outputs": [],
   "source": [
    "test_new = test.merge(df_diff, how = 'outer').sort_values(by = ['state','county'])"
   ]
  },
  {
   "cell_type": "code",
   "execution_count": 139,
   "id": "0c6382ec-9b74-40b2-8f65-9262ec5405f0",
   "metadata": {},
   "outputs": [],
   "source": [
    "import seaborn as sns"
   ]
  },
  {
   "cell_type": "code",
   "execution_count": 152,
   "id": "1b47eb11-3941-4b8c-8c3d-3556b0fb40b8",
   "metadata": {},
   "outputs": [
    {
     "data": {
      "text/plain": [
       "<seaborn.axisgrid.FacetGrid at 0x168d8b0a0>"
      ]
     },
     "execution_count": 152,
     "metadata": {},
     "output_type": "execute_result"
    },
    {
     "data": {
      "image/png": "[encoded data removed]",
      "text/plain": [
       "<Figure size 500x500 with 1 Axes>"
      ]
     },
     "metadata": {},
     "output_type": "display_data"
    }
   ],
   "source": [
    "sns.lmplot(data = test_new, x ='gini', y = 'ba_higher_18_24')"
   ]
  },
  {
   "cell_type": "code",
   "execution_count": 140,
   "id": "804c6226-17ee-454d-9a73-4186612eb166",
   "metadata": {},
   "outputs": [
    {
     "data": {
      "text/html": [
       "<div>\n",
       "<style scoped>\n",
       "    .dataframe tbody tr th:only-of-type {\n",
       "        vertical-align: middle;\n",
       "    }\n",
       "\n",
       "    .dataframe tbody tr th {\n",
       "        vertical-align: top;\n",
       "    }\n",
       "\n",
       "    .dataframe thead th {\n",
       "        text-align: right;\n",
       "    }\n",
       "</style>\n",
       "<table border=\"1\" class=\"dataframe\">\n",
       "  <thead>\n",
       "    <tr style=\"text-align: right;\">\n",
       "      <th></th>\n",
       "      <th>NAME</th>\n",
       "      <th>GEO_ID</th>\n",
       "      <th>pop_total_18_24</th>\n",
       "      <th>pop_total_25_34</th>\n",
       "      <th>pop_total_25_plus</th>\n",
       "      <th>hs_18_24</th>\n",
       "      <th>some_college_asso_18_24</th>\n",
       "      <th>ba_higher_18_24</th>\n",
       "      <th>hs_25_plus</th>\n",
       "      <th>some_college_25_plus</th>\n",
       "      <th>...</th>\n",
       "      <th>hs_25_plusD</th>\n",
       "      <th>some_college_25_plusD</th>\n",
       "      <th>asso_25_plusD</th>\n",
       "      <th>ba_25_plusD</th>\n",
       "      <th>grad_prof_25_plusD</th>\n",
       "      <th>hs_higher_25_plusD</th>\n",
       "      <th>ba_higher_25_plusD</th>\n",
       "      <th>hs_higher_25_34D</th>\n",
       "      <th>ba_higher_25_34D</th>\n",
       "      <th>log10_income</th>\n",
       "    </tr>\n",
       "  </thead>\n",
       "  <tbody>\n",
       "    <tr>\n",
       "      <th>0</th>\n",
       "      <td>Baldwin County, Alabama</td>\n",
       "      <td>0500000US01003</td>\n",
       "      <td>13087.0</td>\n",
       "      <td>21568.0</td>\n",
       "      <td>127969.0</td>\n",
       "      <td>34.7</td>\n",
       "      <td>32.2</td>\n",
       "      <td>10.7</td>\n",
       "      <td>30.7</td>\n",
       "      <td>22.0</td>\n",
       "      <td>...</td>\n",
       "      <td>0.307</td>\n",
       "      <td>0.220</td>\n",
       "      <td>0.078</td>\n",
       "      <td>0.198</td>\n",
       "      <td>0.074</td>\n",
       "      <td>0.877</td>\n",
       "      <td>0.272</td>\n",
       "      <td>0.808</td>\n",
       "      <td>0.298</td>\n",
       "      <td>4.700254</td>\n",
       "    </tr>\n",
       "    <tr>\n",
       "      <th>1</th>\n",
       "      <td>Baldwin County, Alabama</td>\n",
       "      <td>0500000US01003</td>\n",
       "      <td>13225.0</td>\n",
       "      <td>23402.0</td>\n",
       "      <td>131214.0</td>\n",
       "      <td>38.5</td>\n",
       "      <td>40.2</td>\n",
       "      <td>8.9</td>\n",
       "      <td>29.9</td>\n",
       "      <td>23.9</td>\n",
       "      <td>...</td>\n",
       "      <td>0.299</td>\n",
       "      <td>0.239</td>\n",
       "      <td>0.084</td>\n",
       "      <td>0.184</td>\n",
       "      <td>0.099</td>\n",
       "      <td>0.904</td>\n",
       "      <td>0.283</td>\n",
       "      <td>0.944</td>\n",
       "      <td>0.256</td>\n",
       "      <td>4.710304</td>\n",
       "    </tr>\n",
       "    <tr>\n",
       "      <th>2</th>\n",
       "      <td>Baldwin County, Alabama</td>\n",
       "      <td>0500000US01003</td>\n",
       "      <td>14842.0</td>\n",
       "      <td>22639.0</td>\n",
       "      <td>133433.0</td>\n",
       "      <td>31.4</td>\n",
       "      <td>51.0</td>\n",
       "      <td>3.7</td>\n",
       "      <td>28.4</td>\n",
       "      <td>23.7</td>\n",
       "      <td>...</td>\n",
       "      <td>0.284</td>\n",
       "      <td>0.237</td>\n",
       "      <td>0.080</td>\n",
       "      <td>0.191</td>\n",
       "      <td>0.100</td>\n",
       "      <td>0.892</td>\n",
       "      <td>0.291</td>\n",
       "      <td>0.804</td>\n",
       "      <td>0.193</td>\n",
       "      <td>4.705068</td>\n",
       "    </tr>\n",
       "    <tr>\n",
       "      <th>3</th>\n",
       "      <td>Baldwin County, Alabama</td>\n",
       "      <td>0500000US01003</td>\n",
       "      <td>16219.0</td>\n",
       "      <td>23066.0</td>\n",
       "      <td>135016.0</td>\n",
       "      <td>32.6</td>\n",
       "      <td>30.2</td>\n",
       "      <td>11.6</td>\n",
       "      <td>29.3</td>\n",
       "      <td>22.0</td>\n",
       "      <td>...</td>\n",
       "      <td>0.293</td>\n",
       "      <td>0.220</td>\n",
       "      <td>0.103</td>\n",
       "      <td>0.197</td>\n",
       "      <td>0.092</td>\n",
       "      <td>0.906</td>\n",
       "      <td>0.290</td>\n",
       "      <td>0.891</td>\n",
       "      <td>0.259</td>\n",
       "      <td>4.700894</td>\n",
       "    </tr>\n",
       "    <tr>\n",
       "      <th>4</th>\n",
       "      <td>Baldwin County, Alabama</td>\n",
       "      <td>0500000US01003</td>\n",
       "      <td>14901.0</td>\n",
       "      <td>23464.0</td>\n",
       "      <td>140588.0</td>\n",
       "      <td>33.6</td>\n",
       "      <td>28.9</td>\n",
       "      <td>8.6</td>\n",
       "      <td>25.5</td>\n",
       "      <td>23.4</td>\n",
       "      <td>...</td>\n",
       "      <td>0.255</td>\n",
       "      <td>0.234</td>\n",
       "      <td>0.095</td>\n",
       "      <td>0.200</td>\n",
       "      <td>0.105</td>\n",
       "      <td>0.890</td>\n",
       "      <td>0.305</td>\n",
       "      <td>0.831</td>\n",
       "      <td>0.318</td>\n",
       "      <td>4.700565</td>\n",
       "    </tr>\n",
       "    <tr>\n",
       "      <th>...</th>\n",
       "      <td>...</td>\n",
       "      <td>...</td>\n",
       "      <td>...</td>\n",
       "      <td>...</td>\n",
       "      <td>...</td>\n",
       "      <td>...</td>\n",
       "      <td>...</td>\n",
       "      <td>...</td>\n",
       "      <td>...</td>\n",
       "      <td>...</td>\n",
       "      <td>...</td>\n",
       "      <td>...</td>\n",
       "      <td>...</td>\n",
       "      <td>...</td>\n",
       "      <td>...</td>\n",
       "      <td>...</td>\n",
       "      <td>...</td>\n",
       "      <td>...</td>\n",
       "      <td>...</td>\n",
       "      <td>...</td>\n",
       "      <td>...</td>\n",
       "    </tr>\n",
       "    <tr>\n",
       "      <th>8181</th>\n",
       "      <td>Natrona County, Wyoming</td>\n",
       "      <td>0500000US56025</td>\n",
       "      <td>7618.0</td>\n",
       "      <td>11716.0</td>\n",
       "      <td>53528.0</td>\n",
       "      <td>31.8</td>\n",
       "      <td>41.8</td>\n",
       "      <td>2.5</td>\n",
       "      <td>29.5</td>\n",
       "      <td>26.6</td>\n",
       "      <td>...</td>\n",
       "      <td>0.295</td>\n",
       "      <td>0.266</td>\n",
       "      <td>0.112</td>\n",
       "      <td>0.139</td>\n",
       "      <td>0.083</td>\n",
       "      <td>0.894</td>\n",
       "      <td>0.222</td>\n",
       "      <td>0.937</td>\n",
       "      <td>0.212</td>\n",
       "      <td>4.754899</td>\n",
       "    </tr>\n",
       "    <tr>\n",
       "      <th>8182</th>\n",
       "      <td>Natrona County, Wyoming</td>\n",
       "      <td>0500000US56025</td>\n",
       "      <td>7196.0</td>\n",
       "      <td>11947.0</td>\n",
       "      <td>53993.0</td>\n",
       "      <td>37.8</td>\n",
       "      <td>47.2</td>\n",
       "      <td>4.3</td>\n",
       "      <td>33.9</td>\n",
       "      <td>24.9</td>\n",
       "      <td>...</td>\n",
       "      <td>0.339</td>\n",
       "      <td>0.249</td>\n",
       "      <td>0.119</td>\n",
       "      <td>0.143</td>\n",
       "      <td>0.092</td>\n",
       "      <td>0.941</td>\n",
       "      <td>0.235</td>\n",
       "      <td>0.951</td>\n",
       "      <td>0.137</td>\n",
       "      <td>4.755753</td>\n",
       "    </tr>\n",
       "    <tr>\n",
       "      <th>8183</th>\n",
       "      <td>Natrona County, Wyoming</td>\n",
       "      <td>0500000US56025</td>\n",
       "      <td>5570.0</td>\n",
       "      <td>11658.0</td>\n",
       "      <td>53481.0</td>\n",
       "      <td>57.3</td>\n",
       "      <td>26.5</td>\n",
       "      <td>4.7</td>\n",
       "      <td>28.8</td>\n",
       "      <td>27.4</td>\n",
       "      <td>...</td>\n",
       "      <td>0.288</td>\n",
       "      <td>0.274</td>\n",
       "      <td>0.127</td>\n",
       "      <td>0.158</td>\n",
       "      <td>0.085</td>\n",
       "      <td>0.931</td>\n",
       "      <td>0.242</td>\n",
       "      <td>0.984</td>\n",
       "      <td>0.192</td>\n",
       "      <td>4.773794</td>\n",
       "    </tr>\n",
       "    <tr>\n",
       "      <th>8184</th>\n",
       "      <td>Natrona County, Wyoming</td>\n",
       "      <td>0500000US56025</td>\n",
       "      <td>6164.0</td>\n",
       "      <td>11593.0</td>\n",
       "      <td>54037.0</td>\n",
       "      <td>48.2</td>\n",
       "      <td>41.9</td>\n",
       "      <td>1.1</td>\n",
       "      <td>25.0</td>\n",
       "      <td>30.3</td>\n",
       "      <td>...</td>\n",
       "      <td>0.250</td>\n",
       "      <td>0.303</td>\n",
       "      <td>0.133</td>\n",
       "      <td>0.159</td>\n",
       "      <td>0.091</td>\n",
       "      <td>0.936</td>\n",
       "      <td>0.250</td>\n",
       "      <td>0.937</td>\n",
       "      <td>0.203</td>\n",
       "      <td>4.782121</td>\n",
       "    </tr>\n",
       "    <tr>\n",
       "      <th>8185</th>\n",
       "      <td>Natrona County, Wyoming</td>\n",
       "      <td>0500000US56025</td>\n",
       "      <td>6222.0</td>\n",
       "      <td>11124.0</td>\n",
       "      <td>54280.0</td>\n",
       "      <td>27.5</td>\n",
       "      <td>59.2</td>\n",
       "      <td>6.8</td>\n",
       "      <td>34.4</td>\n",
       "      <td>25.9</td>\n",
       "      <td>...</td>\n",
       "      <td>0.344</td>\n",
       "      <td>0.259</td>\n",
       "      <td>0.121</td>\n",
       "      <td>0.141</td>\n",
       "      <td>0.066</td>\n",
       "      <td>0.929</td>\n",
       "      <td>0.207</td>\n",
       "      <td>0.910</td>\n",
       "      <td>0.151</td>\n",
       "      <td>4.797773</td>\n",
       "    </tr>\n",
       "  </tbody>\n",
       "</table>\n",
       "<p>8186 rows × 44 columns</p>\n",
       "</div>"
      ],
      "text/plain": [
       "                         NAME          GEO_ID  pop_total_18_24  \\\n",
       "0     Baldwin County, Alabama  0500000US01003          13087.0   \n",
       "1     Baldwin County, Alabama  0500000US01003          13225.0   \n",
       "2     Baldwin County, Alabama  0500000US01003          14842.0   \n",
       "3     Baldwin County, Alabama  0500000US01003          16219.0   \n",
       "4     Baldwin County, Alabama  0500000US01003          14901.0   \n",
       "...                       ...             ...              ...   \n",
       "8181  Natrona County, Wyoming  0500000US56025           7618.0   \n",
       "8182  Natrona County, Wyoming  0500000US56025           7196.0   \n",
       "8183  Natrona County, Wyoming  0500000US56025           5570.0   \n",
       "8184  Natrona County, Wyoming  0500000US56025           6164.0   \n",
       "8185  Natrona County, Wyoming  0500000US56025           6222.0   \n",
       "\n",
       "      pop_total_25_34  pop_total_25_plus  hs_18_24  some_college_asso_18_24  \\\n",
       "0             21568.0           127969.0      34.7                     32.2   \n",
       "1             23402.0           131214.0      38.5                     40.2   \n",
       "2             22639.0           133433.0      31.4                     51.0   \n",
       "3             23066.0           135016.0      32.6                     30.2   \n",
       "4             23464.0           140588.0      33.6                     28.9   \n",
       "...               ...                ...       ...                      ...   \n",
       "8181          11716.0            53528.0      31.8                     41.8   \n",
       "8182          11947.0            53993.0      37.8                     47.2   \n",
       "8183          11658.0            53481.0      57.3                     26.5   \n",
       "8184          11593.0            54037.0      48.2                     41.9   \n",
       "8185          11124.0            54280.0      27.5                     59.2   \n",
       "\n",
       "      ba_higher_18_24  hs_25_plus  some_college_25_plus  ...  hs_25_plusD  \\\n",
       "0                10.7        30.7                  22.0  ...        0.307   \n",
       "1                 8.9        29.9                  23.9  ...        0.299   \n",
       "2                 3.7        28.4                  23.7  ...        0.284   \n",
       "3                11.6        29.3                  22.0  ...        0.293   \n",
       "4                 8.6        25.5                  23.4  ...        0.255   \n",
       "...               ...         ...                   ...  ...          ...   \n",
       "8181              2.5        29.5                  26.6  ...        0.295   \n",
       "8182              4.3        33.9                  24.9  ...        0.339   \n",
       "8183              4.7        28.8                  27.4  ...        0.288   \n",
       "8184              1.1        25.0                  30.3  ...        0.250   \n",
       "8185              6.8        34.4                  25.9  ...        0.344   \n",
       "\n",
       "      some_college_25_plusD  asso_25_plusD  ba_25_plusD  grad_prof_25_plusD  \\\n",
       "0                     0.220          0.078        0.198               0.074   \n",
       "1                     0.239          0.084        0.184               0.099   \n",
       "2                     0.237          0.080        0.191               0.100   \n",
       "3                     0.220          0.103        0.197               0.092   \n",
       "4                     0.234          0.095        0.200               0.105   \n",
       "...                     ...            ...          ...                 ...   \n",
       "8181                  0.266          0.112        0.139               0.083   \n",
       "8182                  0.249          0.119        0.143               0.092   \n",
       "8183                  0.274          0.127        0.158               0.085   \n",
       "8184                  0.303          0.133        0.159               0.091   \n",
       "8185                  0.259          0.121        0.141               0.066   \n",
       "\n",
       "      hs_higher_25_plusD  ba_higher_25_plusD  hs_higher_25_34D  \\\n",
       "0                  0.877               0.272             0.808   \n",
       "1                  0.904               0.283             0.944   \n",
       "2                  0.892               0.291             0.804   \n",
       "3                  0.906               0.290             0.891   \n",
       "4                  0.890               0.305             0.831   \n",
       "...                  ...                 ...               ...   \n",
       "8181               0.894               0.222             0.937   \n",
       "8182               0.941               0.235             0.951   \n",
       "8183               0.931               0.242             0.984   \n",
       "8184               0.936               0.250             0.937   \n",
       "8185               0.929               0.207             0.910   \n",
       "\n",
       "      ba_higher_25_34D log10_income  \n",
       "0                0.298     4.700254  \n",
       "1                0.256     4.710304  \n",
       "2                0.193     4.705068  \n",
       "3                0.259     4.700894  \n",
       "4                0.318     4.700565  \n",
       "...                ...          ...  \n",
       "8181             0.212     4.754899  \n",
       "8182             0.137     4.755753  \n",
       "8183             0.192     4.773794  \n",
       "8184             0.203     4.782121  \n",
       "8185             0.151     4.797773  \n",
       "\n",
       "[8186 rows x 44 columns]"
      ]
     },
     "execution_count": 140,
     "metadata": {},
     "output_type": "execute_result"
    }
   ],
   "source": [
    "df_attain_master_1y"
   ]
  },
  {
   "cell_type": "code",
   "execution_count": 37,
   "id": "ba861ef3-ad88-4594-9c8f-edf59ab6a18d",
   "metadata": {},
   "outputs": [
    {
     "data": {
      "text/plain": [
       "array([10.7])"
      ]
     },
     "execution_count": 37,
     "metadata": {},
     "output_type": "execute_result"
    }
   ],
   "source": [
    "test.loc[(test['Year'] == 2010) & (test['GEO_ID'] == '0500000US01003'), 'ba_higher_18_24'].values"
   ]
  },
  {
   "cell_type": "code",
   "execution_count": 42,
   "id": "3236d959-2861-4a2a-8ae3-62dde54b871c",
   "metadata": {},
   "outputs": [
    {
     "data": {
      "text/plain": [
       "-1.799999999999999"
      ]
     },
     "execution_count": 42,
     "metadata": {},
     "output_type": "execute_result"
    }
   ],
   "source": [
    "test.loc[(test['Year'] == 2011) & (test['GEO_ID'] == '0500000US01003'), 'ba_higher_18_24'].values[0] -  test.loc[(test['Year'] == 2010) & (test['GEO_ID'] == '0500000US01003'), 'ba_higher_18_24'].values[0]\n"
   ]
  },
  {
   "cell_type": "code",
   "execution_count": 25,
   "id": "5aa305eb-0f30-4482-a0f2-a6b74a48bdf8",
   "metadata": {},
   "outputs": [
    {
     "data": {
      "text/plain": [
       "0    10.7\n",
       "Name: ba_higher_18_24, dtype: float64"
      ]
     },
     "execution_count": 25,
     "metadata": {},
     "output_type": "execute_result"
    }
   ],
   "source": [
    "test[(test['Year'] == 2010) & (test['GEO_ID'] == '0500000US01003')].ba_higher_18_24"
   ]
  }
 ],
 "metadata": {
  "kernelspec": {
   "display_name": "Python 3 (ipykernel)",
   "language": "python",
   "name": "python3"
  },
  "language_info": {
   "codemirror_mode": {
    "name": "ipython",
    "version": 3
   },
   "file_extension": ".py",
   "mimetype": "text/x-python",
   "name": "python",
   "nbconvert_exporter": "python",
   "pygments_lexer": "ipython3",
   "version": "3.8.16"
  }
 },
 "nbformat": 4,
 "nbformat_minor": 5
}
