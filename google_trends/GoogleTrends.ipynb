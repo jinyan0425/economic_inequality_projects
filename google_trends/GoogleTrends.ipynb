{
 "cells": [
  {
   "cell_type": "markdown",
   "id": "2b6c6076-b582-40ba-b0fb-336b4895c53c",
   "metadata": {
    "tags": []
   },
   "source": [
    "## import libraries"
   ]
  },
  {
   "cell_type": "code",
   "execution_count": 2,
   "id": "64057f19-6bc7-4e05-929a-d03aa242e196",
   "metadata": {},
   "outputs": [],
   "source": [
    "import pandas as pd\n",
    "import numpy as np\n",
    "\n",
    "import seaborn as sns\n",
    "import matplotlib\n",
    "from matplotlib import pyplot as plt"
   ]
  },
  {
   "cell_type": "code",
   "execution_count": 3,
   "id": "22e2806a-7376-47e4-9183-df3af7abd2a5",
   "metadata": {},
   "outputs": [],
   "source": [
    "from scipy import stats"
   ]
  },
  {
   "cell_type": "code",
   "execution_count": 4,
   "id": "239000be-1240-41c1-8cc9-65e595bfc3b4",
   "metadata": {},
   "outputs": [],
   "source": [
    "import statsmodels\n",
    "import statsmodels.api as sm\n",
    "import statsmodels.formula.api as smf"
   ]
  },
  {
   "cell_type": "code",
   "execution_count": 5,
   "id": "a608d3ce-4bb1-4684-a344-e7dbc32a59ff",
   "metadata": {},
   "outputs": [],
   "source": [
    "import pytrends\n",
    "from pytrends.request import TrendReq\n",
    "pytrends = TrendReq()"
   ]
  },
  {
   "cell_type": "code",
   "execution_count": 6,
   "id": "d42c7d1c-42dd-49f2-9b67-a072320ec22d",
   "metadata": {},
   "outputs": [],
   "source": [
    "import censusdata"
   ]
  },
  {
   "cell_type": "markdown",
   "id": "cb5b1401-af82-466e-8aaa-766bd247cc3b",
   "metadata": {
    "tags": []
   },
   "source": [
    "## Google Trends"
   ]
  },
  {
   "cell_type": "markdown",
   "id": "5b72b97e-a999-4a33-a0e0-47bff6ff02b5",
   "metadata": {
    "tags": []
   },
   "source": [
    "### collect web searches"
   ]
  },
  {
   "cell_type": "markdown",
   "id": "6b6e6f64-b188-41d6-8511-59f90e04f306",
   "metadata": {
    "tags": []
   },
   "source": [
    "#### create keywords"
   ]
  },
  {
   "cell_type": "code",
   "execution_count": 8,
   "id": "0c202f90-b489-47b2-9b76-1adf7c7e7e5e",
   "metadata": {},
   "outputs": [],
   "source": [
    "keywords = ['college ranking', 'higher education',\n",
    "            'college', 'university', 'colleges', 'universities',\n",
    "            \"bachelor's\", 'undergraduate', \n",
    "            'public college','public university',\n",
    "            'public colleges','public universities',\n",
    "            'private college','private university',\n",
    "            'private colleges','private universities']"
   ]
  },
  {
   "cell_type": "code",
   "execution_count": 9,
   "id": "1e0236d1-35c7-4b4f-a5b8-8f873aeb4fa9",
   "metadata": {},
   "outputs": [
    {
     "data": {
      "text/plain": [
       "16"
      ]
     },
     "execution_count": 9,
     "metadata": {},
     "output_type": "execute_result"
    }
   ],
   "source": [
    "len(keywords)"
   ]
  },
  {
   "cell_type": "markdown",
   "id": "140e0634-43bc-42d3-92a5-fe3c70b5a88f",
   "metadata": {
    "tags": []
   },
   "source": [
    "#### retrieve data from GoogleTrends"
   ]
  },
  {
   "cell_type": "code",
   "execution_count": 10,
   "id": "5f5dff3b-1227-43d0-a6a4-e24fc903dd58",
   "metadata": {},
   "outputs": [],
   "source": [
    "df_gt =pd.DataFrame()\n",
    "\n",
    "timeframe = '2015-01-01 2019-12-31'\n",
    "\n",
    "for i,keyword in enumerate(keywords):\n",
    "    pytrends.build_payload(kw_list=[keyword],timeframe=timeframe,geo='US')\n",
    "    df_temp = pytrends.interest_by_region()[keyword]\n",
    "    df_gt = pd.concat([df_gt,df_temp], axis=1)"
   ]
  },
  {
   "cell_type": "code",
   "execution_count": 11,
   "id": "953d77f5-4da4-4adf-9580-d119c6949b0e",
   "metadata": {},
   "outputs": [],
   "source": [
    "#reset index\n",
    "df_gt.reset_index(names = ['GEO_NAME'], inplace = True)"
   ]
  },
  {
   "cell_type": "markdown",
   "id": "b535cca4-1d72-49c3-9092-c648f766e805",
   "metadata": {
    "tags": []
   },
   "source": [
    "#### Calculate composite search index"
   ]
  },
  {
   "cell_type": "code",
   "execution_count": 12,
   "id": "0b1260a6-272a-41ab-b3cf-e17968ef8e03",
   "metadata": {},
   "outputs": [],
   "source": [
    "def GetReliability(df, var_list):\n",
    "    if len(var_list) == 2:\n",
    "        r = pg.corr(df[var_list[0]], df[var_list[1]])['r'][0]\n",
    "        print(f\"r = {r:.2f}\")   \n",
    "    elif len(var_list) >= 3:\n",
    "        alpha = pg.cronbach_alpha(data=df[var_list])[0]\n",
    "        print(f\"alpha = {alpha :.2f}\")\n",
    "    else:\n",
    "        print(\"error: more than two variables needed\")"
   ]
  },
  {
   "cell_type": "code",
   "execution_count": 13,
   "id": "d0eba14b-482e-4833-ab48-80777b45bc89",
   "metadata": {},
   "outputs": [
    {
     "name": "stdout",
     "output_type": "stream",
     "text": [
      "alpha = 0.90\n"
     ]
    }
   ],
   "source": [
    "GetReliability(df_gt, keywords)"
   ]
  },
  {
   "cell_type": "code",
   "execution_count": 14,
   "id": "7b693031-730f-454b-adf9-caf6e2bd9256",
   "metadata": {},
   "outputs": [],
   "source": [
    "def CalAve(df, new_var, var_list):\n",
    "    df[new_var] = df[var_list].mean(axis = 1)\n",
    "    return df.head()"
   ]
  },
  {
   "cell_type": "code",
   "execution_count": 15,
   "id": "a2fb007f-9d5c-4be7-8a3a-dbd06b723039",
   "metadata": {},
   "outputs": [
    {
     "data": {
      "text/html": [
       "<div>\n",
       "<style scoped>\n",
       "    .dataframe tbody tr th:only-of-type {\n",
       "        vertical-align: middle;\n",
       "    }\n",
       "\n",
       "    .dataframe tbody tr th {\n",
       "        vertical-align: top;\n",
       "    }\n",
       "\n",
       "    .dataframe thead th {\n",
       "        text-align: right;\n",
       "    }\n",
       "</style>\n",
       "<table border=\"1\" class=\"dataframe\">\n",
       "  <thead>\n",
       "    <tr style=\"text-align: right;\">\n",
       "      <th></th>\n",
       "      <th>GEO_NAME</th>\n",
       "      <th>college ranking</th>\n",
       "      <th>higher education</th>\n",
       "      <th>college</th>\n",
       "      <th>university</th>\n",
       "      <th>colleges</th>\n",
       "      <th>universities</th>\n",
       "      <th>bachelor's</th>\n",
       "      <th>undergraduate</th>\n",
       "      <th>public college</th>\n",
       "      <th>public university</th>\n",
       "      <th>public colleges</th>\n",
       "      <th>public universities</th>\n",
       "      <th>private college</th>\n",
       "      <th>private university</th>\n",
       "      <th>private colleges</th>\n",
       "      <th>private universities</th>\n",
       "      <th>EduIndex</th>\n",
       "    </tr>\n",
       "  </thead>\n",
       "  <tbody>\n",
       "    <tr>\n",
       "      <th>0</th>\n",
       "      <td>Alabama</td>\n",
       "      <td>63</td>\n",
       "      <td>39</td>\n",
       "      <td>89</td>\n",
       "      <td>84</td>\n",
       "      <td>62</td>\n",
       "      <td>50</td>\n",
       "      <td>67</td>\n",
       "      <td>51</td>\n",
       "      <td>36</td>\n",
       "      <td>37</td>\n",
       "      <td>58</td>\n",
       "      <td>40</td>\n",
       "      <td>58</td>\n",
       "      <td>66</td>\n",
       "      <td>38</td>\n",
       "      <td>34</td>\n",
       "      <td>54.5000</td>\n",
       "    </tr>\n",
       "    <tr>\n",
       "      <th>1</th>\n",
       "      <td>Alaska</td>\n",
       "      <td>26</td>\n",
       "      <td>30</td>\n",
       "      <td>42</td>\n",
       "      <td>43</td>\n",
       "      <td>45</td>\n",
       "      <td>53</td>\n",
       "      <td>96</td>\n",
       "      <td>37</td>\n",
       "      <td>29</td>\n",
       "      <td>37</td>\n",
       "      <td>0</td>\n",
       "      <td>0</td>\n",
       "      <td>0</td>\n",
       "      <td>0</td>\n",
       "      <td>0</td>\n",
       "      <td>0</td>\n",
       "      <td>27.3750</td>\n",
       "    </tr>\n",
       "    <tr>\n",
       "      <th>2</th>\n",
       "      <td>Arizona</td>\n",
       "      <td>33</td>\n",
       "      <td>35</td>\n",
       "      <td>58</td>\n",
       "      <td>54</td>\n",
       "      <td>47</td>\n",
       "      <td>57</td>\n",
       "      <td>81</td>\n",
       "      <td>40</td>\n",
       "      <td>41</td>\n",
       "      <td>29</td>\n",
       "      <td>36</td>\n",
       "      <td>32</td>\n",
       "      <td>48</td>\n",
       "      <td>49</td>\n",
       "      <td>29</td>\n",
       "      <td>47</td>\n",
       "      <td>44.7500</td>\n",
       "    </tr>\n",
       "    <tr>\n",
       "      <th>3</th>\n",
       "      <td>Arkansas</td>\n",
       "      <td>36</td>\n",
       "      <td>57</td>\n",
       "      <td>60</td>\n",
       "      <td>60</td>\n",
       "      <td>65</td>\n",
       "      <td>45</td>\n",
       "      <td>77</td>\n",
       "      <td>35</td>\n",
       "      <td>40</td>\n",
       "      <td>41</td>\n",
       "      <td>60</td>\n",
       "      <td>39</td>\n",
       "      <td>62</td>\n",
       "      <td>64</td>\n",
       "      <td>36</td>\n",
       "      <td>0</td>\n",
       "      <td>48.5625</td>\n",
       "    </tr>\n",
       "    <tr>\n",
       "      <th>4</th>\n",
       "      <td>California</td>\n",
       "      <td>65</td>\n",
       "      <td>30</td>\n",
       "      <td>68</td>\n",
       "      <td>42</td>\n",
       "      <td>60</td>\n",
       "      <td>80</td>\n",
       "      <td>81</td>\n",
       "      <td>64</td>\n",
       "      <td>37</td>\n",
       "      <td>26</td>\n",
       "      <td>46</td>\n",
       "      <td>51</td>\n",
       "      <td>82</td>\n",
       "      <td>87</td>\n",
       "      <td>67</td>\n",
       "      <td>100</td>\n",
       "      <td>61.6250</td>\n",
       "    </tr>\n",
       "  </tbody>\n",
       "</table>\n",
       "</div>"
      ],
      "text/plain": [
       "     GEO_NAME  college ranking  higher education  college  university  \\\n",
       "0     Alabama               63                39       89          84   \n",
       "1      Alaska               26                30       42          43   \n",
       "2     Arizona               33                35       58          54   \n",
       "3    Arkansas               36                57       60          60   \n",
       "4  California               65                30       68          42   \n",
       "\n",
       "   colleges  universities  bachelor's  undergraduate  public college  \\\n",
       "0        62            50          67             51              36   \n",
       "1        45            53          96             37              29   \n",
       "2        47            57          81             40              41   \n",
       "3        65            45          77             35              40   \n",
       "4        60            80          81             64              37   \n",
       "\n",
       "   public university  public colleges  public universities  private college  \\\n",
       "0                 37               58                   40               58   \n",
       "1                 37                0                    0                0   \n",
       "2                 29               36                   32               48   \n",
       "3                 41               60                   39               62   \n",
       "4                 26               46                   51               82   \n",
       "\n",
       "   private university  private colleges  private universities  EduIndex  \n",
       "0                  66                38                    34   54.5000  \n",
       "1                   0                 0                     0   27.3750  \n",
       "2                  49                29                    47   44.7500  \n",
       "3                  64                36                     0   48.5625  \n",
       "4                  87                67                   100   61.6250  "
      ]
     },
     "execution_count": 15,
     "metadata": {},
     "output_type": "execute_result"
    }
   ],
   "source": [
    "CalAve(df_gt,'EduIndex',keywords)"
   ]
  },
  {
   "cell_type": "code",
   "execution_count": 98,
   "id": "b48b2ee7-3db6-4150-a9b7-80c9feaee9b3",
   "metadata": {},
   "outputs": [],
   "source": [
    "df_gt.to_csv('df_gt_061523.csv')"
   ]
  },
  {
   "cell_type": "markdown",
   "id": "5604edff-f141-41de-aeed-d60829d6a58d",
   "metadata": {
    "tags": []
   },
   "source": [
    "### create and save the master data"
   ]
  },
  {
   "cell_type": "code",
   "execution_count": 171,
   "id": "0c4c06e8-7e30-46c8-ab02-42c113632937",
   "metadata": {},
   "outputs": [],
   "source": [
    "#add state-level covs other than expenditures\n",
    "df_gt_cov = pd.read_csv('df_gt_cov.csv')\n",
    "df_gt_cov['log10_income'] = np.log10(df_gt_cov['income'])"
   ]
  },
  {
   "cell_type": "code",
   "execution_count": 172,
   "id": "ecb2484f-3638-4579-9bff-515838e86ff6",
   "metadata": {},
   "outputs": [],
   "source": [
    "df_gt_master = df_gt.merge(df_gt_cov, on = 'GEO_NAME')"
   ]
  },
  {
   "cell_type": "code",
   "execution_count": 173,
   "id": "7399f759-ac85-41eb-8b47-b839bfc25030",
   "metadata": {},
   "outputs": [],
   "source": [
    "#add expenditure covs\n",
    "df_exp_master = pd.read_csv('df_exp_master.csv')"
   ]
  },
  {
   "cell_type": "code",
   "execution_count": 174,
   "id": "fb661900-39a2-4406-a1b3-e3ca3ebd33b8",
   "metadata": {},
   "outputs": [],
   "source": [
    "df_exp_cov = df_exp_master.query('Year >= 2015 & Year <= 2019').groupby(by = ['State']).mean().reset_index().drop('Year', axis = 1)"
   ]
  },
  {
   "cell_type": "code",
   "execution_count": 175,
   "id": "c2a315a7-5be8-453a-bac5-3a8d525a1981",
   "metadata": {},
   "outputs": [],
   "source": [
    "df_gt_master = df_gt_master.merge(df_exp_cov, left_on = 'GEO_NAME', right_on = 'State')"
   ]
  },
  {
   "cell_type": "code",
   "execution_count": 176,
   "id": "5e76571d-b2c7-4a40-80bf-c38ba635b969",
   "metadata": {},
   "outputs": [],
   "source": [
    "#save data\n",
    "df_gt_master.to_csv('df_gt_master.csv', index = False)"
   ]
  },
  {
   "cell_type": "code",
   "execution_count": 7,
   "id": "ff8afc24-a75f-4dcf-b59c-8544c4165a65",
   "metadata": {},
   "outputs": [],
   "source": [
    "df_gt_master = pd.read_csv('df_gt_master.csv')"
   ]
  },
  {
   "cell_type": "markdown",
   "id": "1edd0c50-c12c-4578-9670-325442071070",
   "metadata": {
    "tags": []
   },
   "source": [
    "### Statistical Analysis on EduIndex"
   ]
  },
  {
   "cell_type": "markdown",
   "id": "8e6e7eae-2492-493c-bc0a-29ebe9799dd0",
   "metadata": {
    "tags": []
   },
   "source": [
    "#### Pearson correlation"
   ]
  },
  {
   "cell_type": "code",
   "execution_count": 177,
   "id": "6b1739a5-310e-4d5e-9612-3c4cc378b8c1",
   "metadata": {},
   "outputs": [
    {
     "data": {
      "text/plain": [
       "PearsonRResult(statistic=0.5449065222297179, pvalue=3.561034133003929e-05)"
      ]
     },
     "execution_count": 177,
     "metadata": {},
     "output_type": "execute_result"
    }
   ],
   "source": [
    "stats.pearsonr(df_gt_master.gini, df_gt_master.EduIndex)"
   ]
  },
  {
   "cell_type": "code",
   "execution_count": 178,
   "id": "bbf4dd17-e111-4076-bc89-841597cbfe36",
   "metadata": {},
   "outputs": [
    {
     "data": {
      "text/plain": [
       "PearsonRResult(statistic=0.42313908056926136, pvalue=0.0019771310009925112)"
      ]
     },
     "execution_count": 178,
     "metadata": {},
     "output_type": "execute_result"
    }
   ],
   "source": [
    "stats.pearsonr(df_gt_master.income, df_gt_master.EduIndex)"
   ]
  },
  {
   "cell_type": "code",
   "execution_count": 179,
   "id": "f8543ea7-6ea6-4f76-abd0-6fb71298ba59",
   "metadata": {},
   "outputs": [
    {
     "data": {
      "text/plain": [
       "PearsonRResult(statistic=0.4024416063472902, pvalue=0.0034153141083614197)"
      ]
     },
     "execution_count": 179,
     "metadata": {},
     "output_type": "execute_result"
    }
   ],
   "source": [
    "stats.pearsonr(df_gt_master.log10_income, df_gt_master.EduIndex)"
   ]
  },
  {
   "cell_type": "code",
   "execution_count": 180,
   "id": "482a9a19-6bbc-4944-83b7-276f5c447368",
   "metadata": {},
   "outputs": [
    {
     "data": {
      "text/plain": [
       "PearsonRResult(statistic=0.5132765087545081, pvalue=0.00011733120877181659)"
      ]
     },
     "execution_count": 180,
     "metadata": {},
     "output_type": "execute_result"
    }
   ],
   "source": [
    "stats.pearsonr(df_gt_master.percent_librals, df_gt_master.EduIndex)"
   ]
  },
  {
   "cell_type": "code",
   "execution_count": 181,
   "id": "c7308318-03e7-4c55-b06e-01f0f64f8251",
   "metadata": {},
   "outputs": [
    {
     "data": {
      "text/plain": [
       "PearsonRResult(statistic=0.3695360648363051, pvalue=0.007612676154450528)"
      ]
     },
     "execution_count": 181,
     "metadata": {},
     "output_type": "execute_result"
    }
   ],
   "source": [
    "stats.pearsonr(df_gt_master.population, df_gt_master.EduIndex)"
   ]
  },
  {
   "cell_type": "code",
   "execution_count": 182,
   "id": "fc196dec-1ef9-483a-8e8e-27f6047ab2b2",
   "metadata": {},
   "outputs": [
    {
     "data": {
      "text/plain": [
       "PearsonRResult(statistic=0.426346487458723, pvalue=0.0018109285970553189)"
      ]
     },
     "execution_count": 182,
     "metadata": {},
     "output_type": "execute_result"
    }
   ],
   "source": [
    "stats.pearsonr(df_gt_master.k12_exp_per_pupil, df_gt_master.EduIndex)"
   ]
  },
  {
   "cell_type": "code",
   "execution_count": 183,
   "id": "a81d3e98-a76b-4d55-b735-bbbaba16ff66",
   "metadata": {},
   "outputs": [
    {
     "data": {
      "text/plain": [
       "PearsonRResult(statistic=0.05499663382121717, pvalue=0.7014914049260784)"
      ]
     },
     "execution_count": 183,
     "metadata": {},
     "output_type": "execute_result"
    }
   ],
   "source": [
    "stats.pearsonr(df_gt_master.he_funding_per_FTE, df_gt_master.EduIndex)"
   ]
  },
  {
   "cell_type": "code",
   "execution_count": 184,
   "id": "89fb023a-d8b1-4852-ab93-9cddc2d53f57",
   "metadata": {},
   "outputs": [
    {
     "data": {
      "text/plain": [
       "PearsonRResult(statistic=-0.02903170074430168, pvalue=0.8397365563315635)"
      ]
     },
     "execution_count": 184,
     "metadata": {},
     "output_type": "execute_result"
    }
   ],
   "source": [
    "stats.pearsonr(df_gt_master.unemployment, df_gt_master.EduIndex)"
   ]
  },
  {
   "cell_type": "markdown",
   "id": "21394cb1-532f-45d8-95d0-b2006772ebfa",
   "metadata": {
    "tags": []
   },
   "source": [
    "#### Regression (OLS)"
   ]
  },
  {
   "cell_type": "markdown",
   "id": "61295cfd-e941-4c32-b179-25e04ed1cc11",
   "metadata": {
    "tags": []
   },
   "source": [
    "##### correlations between covariates"
   ]
  },
  {
   "cell_type": "code",
   "execution_count": 11,
   "id": "b2c8d612-8c37-40d0-96d4-e6d427b73652",
   "metadata": {},
   "outputs": [
    {
     "data": {
      "text/html": [
       "<div>\n",
       "<style scoped>\n",
       "    .dataframe tbody tr th:only-of-type {\n",
       "        vertical-align: middle;\n",
       "    }\n",
       "\n",
       "    .dataframe tbody tr th {\n",
       "        vertical-align: top;\n",
       "    }\n",
       "\n",
       "    .dataframe thead th {\n",
       "        text-align: right;\n",
       "    }\n",
       "</style>\n",
       "<table border=\"1\" class=\"dataframe\">\n",
       "  <thead>\n",
       "    <tr style=\"text-align: right;\">\n",
       "      <th></th>\n",
       "      <th>gini</th>\n",
       "      <th>log10_income</th>\n",
       "      <th>percent_librals</th>\n",
       "      <th>population</th>\n",
       "      <th>k12_exp_per_pupil</th>\n",
       "      <th>he_funding_per_FTE</th>\n",
       "      <th>unemployment</th>\n",
       "    </tr>\n",
       "  </thead>\n",
       "  <tbody>\n",
       "    <tr>\n",
       "      <th>gini</th>\n",
       "      <td>1.000000</td>\n",
       "      <td>-0.086215</td>\n",
       "      <td>0.382338</td>\n",
       "      <td>0.415491</td>\n",
       "      <td>0.247510</td>\n",
       "      <td>0.190350</td>\n",
       "      <td>0.387807</td>\n",
       "    </tr>\n",
       "    <tr>\n",
       "      <th>log10_income</th>\n",
       "      <td>-0.086215</td>\n",
       "      <td>1.000000</td>\n",
       "      <td>0.606984</td>\n",
       "      <td>0.101573</td>\n",
       "      <td>0.624981</td>\n",
       "      <td>0.448878</td>\n",
       "      <td>-0.184561</td>\n",
       "    </tr>\n",
       "    <tr>\n",
       "      <th>percent_librals</th>\n",
       "      <td>0.382338</td>\n",
       "      <td>0.606984</td>\n",
       "      <td>1.000000</td>\n",
       "      <td>0.048197</td>\n",
       "      <td>0.635142</td>\n",
       "      <td>0.511692</td>\n",
       "      <td>0.002572</td>\n",
       "    </tr>\n",
       "    <tr>\n",
       "      <th>population</th>\n",
       "      <td>0.415491</td>\n",
       "      <td>0.101573</td>\n",
       "      <td>0.048197</td>\n",
       "      <td>1.000000</td>\n",
       "      <td>-0.048627</td>\n",
       "      <td>-0.092345</td>\n",
       "      <td>0.207943</td>\n",
       "    </tr>\n",
       "    <tr>\n",
       "      <th>k12_exp_per_pupil</th>\n",
       "      <td>0.247510</td>\n",
       "      <td>0.624981</td>\n",
       "      <td>0.635142</td>\n",
       "      <td>-0.048627</td>\n",
       "      <td>1.000000</td>\n",
       "      <td>0.492480</td>\n",
       "      <td>-0.015805</td>\n",
       "    </tr>\n",
       "    <tr>\n",
       "      <th>he_funding_per_FTE</th>\n",
       "      <td>0.190350</td>\n",
       "      <td>0.448878</td>\n",
       "      <td>0.511692</td>\n",
       "      <td>-0.092345</td>\n",
       "      <td>0.492480</td>\n",
       "      <td>1.000000</td>\n",
       "      <td>0.220735</td>\n",
       "    </tr>\n",
       "    <tr>\n",
       "      <th>unemployment</th>\n",
       "      <td>0.387807</td>\n",
       "      <td>-0.184561</td>\n",
       "      <td>0.002572</td>\n",
       "      <td>0.207943</td>\n",
       "      <td>-0.015805</td>\n",
       "      <td>0.220735</td>\n",
       "      <td>1.000000</td>\n",
       "    </tr>\n",
       "  </tbody>\n",
       "</table>\n",
       "</div>"
      ],
      "text/plain": [
       "                        gini  log10_income  percent_librals  population  \\\n",
       "gini                1.000000     -0.086215         0.382338    0.415491   \n",
       "log10_income       -0.086215      1.000000         0.606984    0.101573   \n",
       "percent_librals     0.382338      0.606984         1.000000    0.048197   \n",
       "population          0.415491      0.101573         0.048197    1.000000   \n",
       "k12_exp_per_pupil   0.247510      0.624981         0.635142   -0.048627   \n",
       "he_funding_per_FTE  0.190350      0.448878         0.511692   -0.092345   \n",
       "unemployment        0.387807     -0.184561         0.002572    0.207943   \n",
       "\n",
       "                    k12_exp_per_pupil  he_funding_per_FTE  unemployment  \n",
       "gini                         0.247510            0.190350      0.387807  \n",
       "log10_income                 0.624981            0.448878     -0.184561  \n",
       "percent_librals              0.635142            0.511692      0.002572  \n",
       "population                  -0.048627           -0.092345      0.207943  \n",
       "k12_exp_per_pupil            1.000000            0.492480     -0.015805  \n",
       "he_funding_per_FTE           0.492480            1.000000      0.220735  \n",
       "unemployment                -0.015805            0.220735      1.000000  "
      ]
     },
     "execution_count": 11,
     "metadata": {},
     "output_type": "execute_result"
    }
   ],
   "source": [
    "df_gt_master[['gini','log10_income', 'percent_librals','population',\n",
    "              'k12_exp_per_pupil', 'he_funding_per_FTE','unemployment']].corr()"
   ]
  },
  {
   "cell_type": "code",
   "execution_count": 9,
   "id": "5ab32d44-05f5-4db1-96f8-2af76cf44bab",
   "metadata": {},
   "outputs": [
    {
     "data": {
      "text/plain": [
       "Index(['GEO_NAME', 'college ranking', 'higher education', 'college',\n",
       "       'university', 'colleges', 'universities', 'bachelor's', 'undergraduate',\n",
       "       'public college', 'public university', 'public colleges',\n",
       "       'public universities', 'private college', 'private university',\n",
       "       'private colleges', 'private universities', 'EduIndex', 'GEO_ID',\n",
       "       'gini', 'income', 'population', 'gini_5y', 'income_5y', 'population_5y',\n",
       "       'vote_trump_percent', 'area_land', 'density', 'unemployment',\n",
       "       'percent_librals', 'log10_income', 'log10_income_5y', 'State',\n",
       "       'k12_exp_per_pupil', 'he_funding_per_FTE'],\n",
       "      dtype='object')"
      ]
     },
     "execution_count": 9,
     "metadata": {},
     "output_type": "execute_result"
    }
   ],
   "source": [
    "df_gt_master.columns"
   ]
  },
  {
   "cell_type": "markdown",
   "id": "eb105f89-51f3-4ce4-be4b-634c3d61fb1b",
   "metadata": {
    "tags": []
   },
   "source": [
    "##### OLS models"
   ]
  },
  {
   "cell_type": "code",
   "execution_count": 18,
   "id": "d485dc6d-b9b9-4113-8a37-55b42d71ccff",
   "metadata": {},
   "outputs": [
    {
     "name": "stdout",
     "output_type": "stream",
     "text": [
      "                            OLS Regression Results                            \n",
      "==============================================================================\n",
      "Dep. Variable:               EduIndex   R-squared:                       0.615\n",
      "Model:                            OLS   Adj. R-squared:                  0.552\n",
      "Method:                 Least Squares   F-statistic:                     9.796\n",
      "Date:                Thu, 20 Jul 2023   Prob (F-statistic):           3.11e-07\n",
      "Time:                        21:42:02   Log-Likelihood:                -175.62\n",
      "No. Observations:                  51   AIC:                             367.2\n",
      "Df Residuals:                      43   BIC:                             382.7\n",
      "Df Model:                           7                                         \n",
      "Covariance Type:            nonrobust                                         \n",
      "======================================================================================\n",
      "                         coef    std err          t      P>|t|      [0.025      0.975]\n",
      "--------------------------------------------------------------------------------------\n",
      "Intercept           -464.2382    158.157     -2.935      0.005    -783.192    -145.284\n",
      "gini                 356.2351     89.503      3.980      0.000     175.735     536.735\n",
      "log10_income          74.4686     28.775      2.588      0.013      16.437     132.500\n",
      "population          1.217e-07   2.05e-07      0.595      0.555   -2.91e-07    5.35e-07\n",
      "k12_exp_per_pupil      0.0002      0.000      0.607      0.547      -0.001       0.001\n",
      "he_funding_per_FTE    -0.0011      0.000     -2.677      0.010      -0.002      -0.000\n",
      "unemployment          -1.1968      1.135     -1.054      0.298      -3.486       1.092\n",
      "percent_librals        0.1831      0.212      0.864      0.392      -0.244       0.611\n",
      "==============================================================================\n",
      "Omnibus:                        0.141   Durbin-Watson:                   1.921\n",
      "Prob(Omnibus):                  0.932   Jarque-Bera (JB):                0.166\n",
      "Skew:                           0.110   Prob(JB):                        0.920\n",
      "Kurtosis:                       2.828   Cond. No.                     1.45e+09\n",
      "==============================================================================\n",
      "\n",
      "Notes:\n",
      "[1] Standard Errors assume that the covariance matrix of the errors is correctly specified.\n",
      "[2] The condition number is large, 1.45e+09. This might indicate that there are\n",
      "strong multicollinearity or other numerical problems.\n"
     ]
    }
   ],
   "source": [
    "m_gt_edu= smf.ols('EduIndex ~ gini + log10_income + population + k12_exp_per_pupil +  he_funding_per_FTE + unemployment + percent_librals', \n",
    "               data = df_gt_master).fit() \n",
    "print(m_gt_edu.summary())"
   ]
  },
  {
   "cell_type": "markdown",
   "id": "f2458caf-718b-497c-9b4e-0f4ef9c00822",
   "metadata": {
    "tags": []
   },
   "source": [
    "#### virsualization"
   ]
  },
  {
   "cell_type": "code",
   "execution_count": 61,
   "id": "009a943e-18d5-4cb4-b158-ebb5b3477226",
   "metadata": {},
   "outputs": [],
   "source": [
    "import matplotlib as mpl\n",
    "sns.set_theme(style=\"ticks\", palette=['black'],font_scale=1)\n",
    "\n",
    "COLOR = 'black'\n",
    "mpl.rcParams['text.color'] = COLOR\n",
    "mpl.rcParams['axes.labelcolor'] = COLOR\n",
    "mpl.rcParams['xtick.color'] = COLOR\n",
    "mpl.rcParams['ytick.color'] = COLOR"
   ]
  },
  {
   "cell_type": "code",
   "execution_count": 16,
   "id": "7fa03062-cdc1-4a18-8960-ddf5900cc212",
   "metadata": {},
   "outputs": [
    {
     "data": {
      "image/png": "[encoded data removed]",
      "text/plain": [
       "<Figure size 720x600 with 1 Axes>"
      ]
     },
     "metadata": {},
     "output_type": "display_data"
    }
   ],
   "source": [
    "# Set a black and white color palette\n",
    "sns.set_palette(\"muted\")\n",
    "\n",
    "# Set a white background\n",
    "#sns.set_style(\"white\")\n",
    "\n",
    "sns.lmplot(x = \"gini\", y = \"EduIndex\", data = df_gt_master,\n",
    "          height = 6, aspect = 1.2)\n",
    "\n",
    "plt.xlabel('Economic Inequality', fontsize = 12)\n",
    "plt.ylabel('Search Interest in Higher Education', fontsize = 12)\n",
    "\n",
    "plt.yticks(np.arange(30, 90, step=10))\n",
    "plt.xticks(np.arange(0.42, 0.54,step=0.02))\n",
    "\n",
    "#plt.show()\n",
    "plt.savefig('fig_gt.png', dpi=1000)"
   ]
  },
  {
   "cell_type": "code",
   "execution_count": null,
   "id": "3377ff6c-d284-47f4-8288-b07c69cb3e4c",
   "metadata": {},
   "outputs": [],
   "source": []
  }
 ],
 "metadata": {
  "kernelspec": {
   "display_name": "Python 3 (ipykernel)",
   "language": "python",
   "name": "python3"
  },
  "language_info": {
   "codemirror_mode": {
    "name": "ipython",
    "version": 3
   },
   "file_extension": ".py",
   "mimetype": "text/x-python",
   "name": "python",
   "nbconvert_exporter": "python",
   "pygments_lexer": "ipython3",
   "version": "3.8.16"
  }
 },
 "nbformat": 4,
 "nbformat_minor": 5
}
